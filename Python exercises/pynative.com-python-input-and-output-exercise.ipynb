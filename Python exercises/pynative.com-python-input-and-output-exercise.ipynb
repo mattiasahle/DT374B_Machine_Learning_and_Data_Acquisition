{
 "cells": [
  {
   "cell_type": "code",
   "execution_count": 3,
   "id": "2be5c8f3",
   "metadata": {},
   "outputs": [
    {
     "name": "stdout",
     "output_type": "stream",
     "text": [
      "Enter first number: 2\n",
      "Enter second number: 3\n",
      "Product:  6.0\n"
     ]
    }
   ],
   "source": [
    "#1\n",
    "\n",
    "num1 = float(input(\"Enter first number: \"))\n",
    "num2 = float(input(\"Enter second number: \"))\n",
    "\n",
    "print(\"Product: \", num1 * num2)"
   ]
  },
  {
   "cell_type": "code",
   "execution_count": 4,
   "id": "a078456c",
   "metadata": {},
   "outputs": [
    {
     "name": "stdout",
     "output_type": "stream",
     "text": [
      "My**Name**Is**James\n"
     ]
    }
   ],
   "source": [
    "#2\n",
    "\n",
    "print('My', 'Name', 'Is', 'James', sep='**')"
   ]
  },
  {
   "cell_type": "code",
   "execution_count": 20,
   "id": "989a129b",
   "metadata": {},
   "outputs": [
    {
     "name": "stdout",
     "output_type": "stream",
     "text": [
      "10\n"
     ]
    }
   ],
   "source": [
    "#3\n",
    "\n",
    "print(\"%o\" % 8)"
   ]
  },
  {
   "cell_type": "code",
   "execution_count": 21,
   "id": "985effe2",
   "metadata": {},
   "outputs": [
    {
     "name": "stdout",
     "output_type": "stream",
     "text": [
      "458.54\n"
     ]
    }
   ],
   "source": [
    "#4\n",
    "\n",
    "num = 458.541315\n",
    "\n",
    "print(\"%.2f\" % num)"
   ]
  },
  {
   "cell_type": "code",
   "execution_count": 34,
   "id": "aaa1e084",
   "metadata": {},
   "outputs": [
    {
     "name": "stdout",
     "output_type": "stream",
     "text": [
      "Enter float:2\n",
      "Enter float:3\n",
      "Enter float:43\n",
      "Enter float:3232\n",
      "Enter float:32\n",
      "[2.0, 3.0, 43.0, 3232.0, 32.0]\n"
     ]
    }
   ],
   "source": [
    "#5\n",
    "\n",
    "user_list = []\n",
    "\n",
    "for i in range(5):\n",
    "    user_list.append(float(input(\"Enter float:\")))\n",
    "    \n",
    "print(user_list)"
   ]
  },
  {
   "cell_type": "code",
   "execution_count": 81,
   "id": "824b2862",
   "metadata": {},
   "outputs": [],
   "source": [
    "#6\n",
    "\n",
    "count = 0\n",
    "\n",
    "with open(\"test.txt\", \"r\") as f:\n",
    "    lines = f.readlines()\n",
    "    count = len(lines)\n",
    "    \n",
    "with open(\"new_file.txt\", \"w\") as f:\n",
    "    for line in lines:\n",
    "        if count == 3:\n",
    "            count -= 1\n",
    "        else:\n",
    "            f.write(line)\n",
    "        count -= 1"
   ]
  },
  {
   "cell_type": "code",
   "execution_count": 65,
   "id": "20de2707",
   "metadata": {},
   "outputs": [
    {
     "name": "stdout",
     "output_type": "stream",
     "text": [
      "Enter three strings: jag heter mattias\n",
      "jag heter mattias\n"
     ]
    }
   ],
   "source": [
    "#7\n",
    "\n",
    "string1, string2, string3 = input(\"Enter three strings: \").split()\n",
    "print(string1, string2, string3)"
   ]
  },
  {
   "cell_type": "code",
   "execution_count": 67,
   "id": "c90a8cf2",
   "metadata": {},
   "outputs": [
    {
     "name": "stdout",
     "output_type": "stream",
     "text": [
      "I have 1000 dollars so I can buy 3 footballs for 450 dollars.\n"
     ]
    }
   ],
   "source": [
    "#8\n",
    "\n",
    "totalMoney = 1000\n",
    "quantity = 3\n",
    "price = 450\n",
    "\n",
    "print(\"I have\", totalMoney, \"dollars so I can buy\", quantity, \"footballs for\", price, \"dollars.\")"
   ]
  },
  {
   "cell_type": "code",
   "execution_count": 72,
   "id": "9fb3f86d",
   "metadata": {},
   "outputs": [
    {
     "name": "stdout",
     "output_type": "stream",
     "text": [
      "The file is not empty: 41B\n"
     ]
    }
   ],
   "source": [
    "#9\n",
    "\n",
    "filesize = os.path.getsize(\"test.txt\")\n",
    "\n",
    "if filesize == 0:\n",
    "    print(\"The file is empty: \" + str(filesize) + \"B\")\n",
    "else:\n",
    "    print(\"The file is not empty: \" + str(filesize) + \"B\")"
   ]
  },
  {
   "cell_type": "code",
   "execution_count": 79,
   "id": "42b19b03",
   "metadata": {},
   "outputs": [
    {
     "name": "stdout",
     "output_type": "stream",
     "text": [
      "line4\n",
      "\n"
     ]
    }
   ],
   "source": [
    "#10\n",
    "\n",
    "with open(\"test.txt\", \"r\") as f:\n",
    "    lines = f.readlines()\n",
    "    print(lines[3])"
   ]
  },
  {
   "cell_type": "code",
   "execution_count": null,
   "id": "f04058ea",
   "metadata": {},
   "outputs": [],
   "source": []
  }
 ],
 "metadata": {
  "kernelspec": {
   "display_name": "Python 3 (ipykernel)",
   "language": "python",
   "name": "python3"
  },
  "language_info": {
   "codemirror_mode": {
    "name": "ipython",
    "version": 3
   },
   "file_extension": ".py",
   "mimetype": "text/x-python",
   "name": "python",
   "nbconvert_exporter": "python",
   "pygments_lexer": "ipython3",
   "version": "3.7.10"
  }
 },
 "nbformat": 4,
 "nbformat_minor": 5
}
