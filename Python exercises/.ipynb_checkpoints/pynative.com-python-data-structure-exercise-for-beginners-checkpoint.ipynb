{
 "cells": [
  {
   "cell_type": "code",
   "execution_count": 4,
   "id": "aa70f42b",
   "metadata": {},
   "outputs": [
    {
     "name": "stdout",
     "output_type": "stream",
     "text": [
      "Odd: [6, 12, 18]\n",
      "Even: [4, 12, 20, 28]\n",
      "Joined: [6, 12, 18, 4, 12, 20, 28]\n"
     ]
    }
   ],
   "source": [
    "#1\n",
    "\n",
    "listOne = [3, 6, 9, 12, 15, 18, 21]\n",
    "listTwo = [4, 8, 12, 16, 20, 24, 28]\n",
    "\n",
    "odd = listOne[1::2]\n",
    "print(\"Odd:\", odd)\n",
    "\n",
    "even = listTwo[::2]\n",
    "print(\"Even:\", even)\n",
    "\n",
    "listThree = odd + even\n",
    "print(\"Joined:\", listThree)"
   ]
  },
  {
   "cell_type": "code",
   "execution_count": 15,
   "id": "c1cf7b12",
   "metadata": {},
   "outputs": [
    {
     "name": "stdout",
     "output_type": "stream",
     "text": [
      "[54, 91, 44, 27, 79, 41, 91]\n"
     ]
    }
   ],
   "source": [
    "#2\n",
    "\n",
    "list1 = [54, 44, 27, 79, 91, 41]\n",
    "\n",
    "element = list1.pop(4)\n",
    "list1.insert(1, element)\n",
    "list1.append(element)\n",
    "\n",
    "print(list1)"
   ]
  },
  {
   "cell_type": "code",
   "execution_count": 23,
   "id": "e7275183",
   "metadata": {},
   "outputs": [
    {
     "name": "stdout",
     "output_type": "stream",
     "text": [
      "[11, 45, 8]\n",
      "[8, 45, 11] \n",
      "\n",
      "[23, 14, 12]\n",
      "[12, 14, 23] \n",
      "\n",
      "[78, 45, 89]\n",
      "[89, 45, 78] \n",
      "\n"
     ]
    }
   ],
   "source": [
    "#3\n",
    "\n",
    "sampleList = [11, 45, 8, 23, 14, 12, 78, 45, 89]\n",
    "\n",
    "chunkSize = len(sampleList) // 3\n",
    "\n",
    "list1 = sampleList[0:chunkSize]\n",
    "print(list1)\n",
    "print(list1[::-1], \"\\n\")\n",
    "\n",
    "list2 = sampleList[chunkSize:chunkSize * 2]\n",
    "print(list2)\n",
    "print(list2[::-1], \"\\n\")\n",
    "\n",
    "list3 = sampleList[chunkSize * 2:]\n",
    "print(list3)\n",
    "print(list3[::-1], \"\\n\")"
   ]
  },
  {
   "cell_type": "code",
   "execution_count": 24,
   "id": "ffd2813d",
   "metadata": {},
   "outputs": [
    {
     "name": "stdout",
     "output_type": "stream",
     "text": [
      "{11: 2, 45: 3, 8: 1, 23: 2, 89: 1}\n"
     ]
    }
   ],
   "source": [
    "#4\n",
    "\n",
    "list1 = [11, 45, 8, 11, 23, 45, 23, 45, 89]\n",
    "countDict = dict()\n",
    "\n",
    "for item in list1:\n",
    "    if item in countDict:\n",
    "        countDict[item] += 1\n",
    "    else:\n",
    "        countDict[item] = 1\n",
    "        \n",
    "print(countDict)"
   ]
  },
  {
   "cell_type": "code",
   "execution_count": 37,
   "id": "d9ec7e30",
   "metadata": {},
   "outputs": [
    {
     "name": "stdout",
     "output_type": "stream",
     "text": [
      "{(6, 36), (8, 64), (4, 16), (5, 25), (3, 9), (7, 49), (2, 4)}\n"
     ]
    }
   ],
   "source": [
    "#5\n",
    "\n",
    "list1 = [2, 3, 4, 5, 6, 7, 8]\n",
    "list2 = [4, 9, 16, 25, 36, 49, 64]\n",
    "\n",
    "result_zip = zip(list1, list2)\n",
    "result_set = set(result_zip)\n",
    "\n",
    "print(result_set)"
   ]
  },
  {
   "cell_type": "code",
   "execution_count": 42,
   "id": "d910d568",
   "metadata": {},
   "outputs": [
    {
     "name": "stdout",
     "output_type": "stream",
     "text": [
      "{57, 83, 29}\n",
      "{65, 42, 78, 23}\n"
     ]
    }
   ],
   "source": [
    "#6\n",
    "\n",
    "set1 = set((65, 42, 78, 83, 23, 57, 29))\n",
    "set2 = set((67, 73, 43, 48, 83, 57, 29))\n",
    "\n",
    "intersection = set1.intersection(set2)\n",
    "print(intersection)\n",
    "\n",
    "for item in intersection:\n",
    "    set1.remove(item)\n",
    "    \n",
    "print(set1)"
   ]
  },
  {
   "cell_type": "code",
   "execution_count": 47,
   "id": "e4f77120",
   "metadata": {},
   "outputs": [
    {
     "name": "stdout",
     "output_type": "stream",
     "text": [
      "set1 is subset of set2: True\n",
      "set2 is subset of set1: False\n",
      "set1 is subset of set2: False\n",
      "set2 is subset of set1: True\n",
      "First Set  set()\n",
      "Second Set  {34, 43, 48, 53, 22, 27, 93}\n"
     ]
    }
   ],
   "source": [
    "#7\n",
    "\n",
    "set1 = set((27, 43, 34))\n",
    "set2 = set((34, 93, 22, 27, 43, 53, 48))\n",
    "\n",
    "print(\"set1 is subset of set2:\", set1.issubset(set2))\n",
    "print(\"set2 is subset of set1:\", set2.issubset(set1))\n",
    "\n",
    "print(\"set1 is subset of set2:\", set1.issuperset(set2))\n",
    "print(\"set2 is subset of set1:\", set2.issuperset(set1))\n",
    "\n",
    "if set1.issubset(set2):\n",
    "    set1.clear()\n",
    "    \n",
    "if set2.issubset(set1):\n",
    "    set2.clear()\n",
    "\n",
    "print(\"First Set \", set1)\n",
    "print(\"Second Set \", set2)"
   ]
  },
  {
   "cell_type": "code",
   "execution_count": 48,
   "id": "b8f6324a",
   "metadata": {},
   "outputs": [
    {
     "name": "stdout",
     "output_type": "stream",
     "text": [
      "List - [47, 64, 69, 37, 76, 83, 95, 97]\n",
      "Dictionary -  {'John': 47, 'Emma': 69, 'Kelly': 76, 'Jason': 97}\n",
      "after removing unwanted elemnts from list  [47, 69, 76, 97]\n"
     ]
    }
   ],
   "source": [
    "#8\n",
    "\n",
    "rollNumber = [47, 64, 69, 37, 76, 83, 95, 97]\n",
    "sampleDict = {'John':47, 'Emma':69, 'Kelly':76, 'Jason':97}\n",
    "\n",
    "print(\"List -\", rollNumber)\n",
    "print(\"Dictionary - \", sampleDict)\n",
    "\n",
    "rollNumber[:] = [item for item in rollNumber if item in sampleDict.values()]\n",
    "print(\"after removing unwanted elemnts from list \", rollNumber)"
   ]
  },
  {
   "cell_type": "code",
   "execution_count": 54,
   "id": "2c44966d",
   "metadata": {},
   "outputs": [
    {
     "name": "stdout",
     "output_type": "stream",
     "text": [
      "[47, 52, 44, 53, 54]\n"
     ]
    }
   ],
   "source": [
    "#9\n",
    "\n",
    "speed ={'jan':47, 'feb':52, 'march':47, 'April':44, 'May':52, 'June':53, 'july':54, 'Aug':44, 'Sept':54}\n",
    "\n",
    "new_list = list()\n",
    "\n",
    "for value in speed.values():\n",
    "    if value not in new_list:\n",
    "        new_list.append(value)\n",
    "        \n",
    "print(new_list)"
   ]
  },
  {
   "cell_type": "code",
   "execution_count": 75,
   "id": "71878886",
   "metadata": {},
   "outputs": [
    {
     "name": "stdout",
     "output_type": "stream",
     "text": [
      "Original list: [87, 45, 41, 65, 94, 41, 99, 94]\n",
      "Unique list: [65, 99, 41, 45, 87, 94]\n",
      "Tuple: (65, 99, 41, 45, 87, 94)\n",
      "<class 'tuple'>\n",
      "Minimum number is: 41\n",
      "Maximum number is: 99\n"
     ]
    }
   ],
   "source": [
    "#10\n",
    "\n",
    "sampleList = [87, 45, 41, 65, 94, 41, 99, 94]\n",
    "\n",
    "print(\"Original list:\", sampleList)\n",
    "\n",
    "sampleList = list(set(sampleList))\n",
    "print(\"Unique list:\", sampleList)\n",
    "\n",
    "my_tuple = (*sampleList,)\n",
    "print(\"Tuple:\", my_tuple)\n",
    "print(type(my_tuple))\n",
    "\n",
    "print(\"Minimum number is:\", min(my_tuple))\n",
    "print(\"Maximum number is:\", max(my_tuple))"
   ]
  },
  {
   "cell_type": "code",
   "execution_count": null,
   "id": "e7cf6ea1",
   "metadata": {},
   "outputs": [],
   "source": []
  }
 ],
 "metadata": {
  "kernelspec": {
   "display_name": "Python 3 (ipykernel)",
   "language": "python",
   "name": "python3"
  },
  "language_info": {
   "codemirror_mode": {
    "name": "ipython",
    "version": 3
   },
   "file_extension": ".py",
   "mimetype": "text/x-python",
   "name": "python",
   "nbconvert_exporter": "python",
   "pygments_lexer": "ipython3",
   "version": "3.7.10"
  }
 },
 "nbformat": 4,
 "nbformat_minor": 5
}
