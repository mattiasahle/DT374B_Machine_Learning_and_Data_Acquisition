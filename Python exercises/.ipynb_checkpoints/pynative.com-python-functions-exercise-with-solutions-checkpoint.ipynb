{
 "cells": [
  {
   "cell_type": "code",
   "execution_count": 2,
   "id": "42b4950c",
   "metadata": {},
   "outputs": [
    {
     "name": "stdout",
     "output_type": "stream",
     "text": [
      "Mattias 37\n"
     ]
    }
   ],
   "source": [
    "#1\n",
    "\n",
    "def func(name, age):\n",
    "    print(name, age)\n",
    "    \n",
    "func(\"Mattias\", 37)"
   ]
  },
  {
   "cell_type": "code",
   "execution_count": 9,
   "id": "c484c979",
   "metadata": {},
   "outputs": [
    {
     "name": "stdout",
     "output_type": "stream",
     "text": [
      "1\n",
      "2\n",
      "3\n",
      "Mattias\n",
      "37\n"
     ]
    }
   ],
   "source": [
    "#2\n",
    "\n",
    "def func1(*args):\n",
    "    for i in args:\n",
    "        print(i)\n",
    "\n",
    "func1(1, 2, 3)\n",
    "func1(\"Mattias\", 37)"
   ]
  },
  {
   "cell_type": "code",
   "execution_count": 10,
   "id": "040a4468",
   "metadata": {},
   "outputs": [
    {
     "name": "stdout",
     "output_type": "stream",
     "text": [
      "(50, 30)\n"
     ]
    }
   ],
   "source": [
    "#3\n",
    "\n",
    "def calculation(a, b):\n",
    "    return a + b, a - b\n",
    "\n",
    "print(calculation(40, 10))"
   ]
  },
  {
   "cell_type": "code",
   "execution_count": 12,
   "id": "526a9bf4",
   "metadata": {},
   "outputs": [
    {
     "name": "stdout",
     "output_type": "stream",
     "text": [
      "Employee: Ben \tSalary: 8000\n",
      "Employee: Ben \tSalary: 9000\n"
     ]
    }
   ],
   "source": [
    "#4\n",
    "\n",
    "def showEmployee(name, salary = 9000):\n",
    "    print(\"Employee:\", name, \"\\tSalary:\", salary)\n",
    "\n",
    "showEmployee(\"Ben\", 8000)\n",
    "showEmployee(\"Ben\")"
   ]
  },
  {
   "cell_type": "code",
   "execution_count": 14,
   "id": "843a423e",
   "metadata": {},
   "outputs": [
    {
     "name": "stdout",
     "output_type": "stream",
     "text": [
      "10\n"
     ]
    }
   ],
   "source": [
    "#5\n",
    "\n",
    "def outer_fun(a, b):\n",
    "    \n",
    "    def inner_fun(a, b):\n",
    "        return a + b\n",
    "    \n",
    "    return inner_fun(a, b) + 5\n",
    "\n",
    "print(outer_fun(2, 3))"
   ]
  },
  {
   "cell_type": "code",
   "execution_count": 17,
   "id": "9bf06f09",
   "metadata": {},
   "outputs": [
    {
     "name": "stdout",
     "output_type": "stream",
     "text": [
      "55\n"
     ]
    }
   ],
   "source": [
    "#6\n",
    "\n",
    "sum = 0\n",
    "\n",
    "def rec_sum(n):\n",
    "    if n:\n",
    "        return n + rec_sum(n - 1)\n",
    "    else:\n",
    "        return 0\n",
    "\n",
    "print(rec_sum(10))"
   ]
  },
  {
   "cell_type": "code",
   "execution_count": 19,
   "id": "4f4c69ac",
   "metadata": {},
   "outputs": [
    {
     "name": "stdout",
     "output_type": "stream",
     "text": [
      "Emma 26\n",
      "Emma 26\n"
     ]
    }
   ],
   "source": [
    "#7\n",
    "\n",
    "def displayStudent(name, age):\n",
    "    print(name, age)\n",
    "\n",
    "displayStudent(\"Emma\", 26)\n",
    "\n",
    "showStudent = displayStudent\n",
    "showStudent(\"Emma\", 26)"
   ]
  },
  {
   "cell_type": "code",
   "execution_count": 22,
   "id": "fbc3757a",
   "metadata": {},
   "outputs": [
    {
     "name": "stdout",
     "output_type": "stream",
     "text": [
      "[4, 6, 8, 10, 12, 14, 16, 18, 20, 22, 24, 26, 28]\n",
      "[4, 6, 8, 10, 12, 14, 16, 18, 20, 22, 24, 26, 28]\n"
     ]
    }
   ],
   "source": [
    "#8\n",
    "\n",
    "def generate_even_numbers(low, high):\n",
    "    list1 = []\n",
    "    \n",
    "    for num in range(low, high):\n",
    "        if num % 2 == 0:\n",
    "            list1.append(num)\n",
    "    \n",
    "    return list1\n",
    "\n",
    "print(generate_even_numbers(4, 30))\n",
    "\n",
    "# or\n",
    "\n",
    "print(list(range(4, 30, 2)))"
   ]
  },
  {
   "cell_type": "code",
   "execution_count": 24,
   "id": "fcaf885d",
   "metadata": {},
   "outputs": [
    {
     "name": "stdout",
     "output_type": "stream",
     "text": [
      "24\n"
     ]
    }
   ],
   "source": [
    "#9\n",
    "\n",
    "aList = [4, 6, 8, 24, 12, 2]\n",
    "\n",
    "print(find_max(aList))"
   ]
  }
 ],
 "metadata": {
  "kernelspec": {
   "display_name": "Python 3 (ipykernel)",
   "language": "python",
   "name": "python3"
  },
  "language_info": {
   "codemirror_mode": {
    "name": "ipython",
    "version": 3
   },
   "file_extension": ".py",
   "mimetype": "text/x-python",
   "name": "python",
   "nbconvert_exporter": "python",
   "pygments_lexer": "ipython3",
   "version": "3.7.10"
  }
 },
 "nbformat": 4,
 "nbformat_minor": 5
}
