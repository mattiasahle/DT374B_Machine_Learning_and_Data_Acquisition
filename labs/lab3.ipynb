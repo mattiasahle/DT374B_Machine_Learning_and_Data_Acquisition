{
 "cells": [
  {
   "cell_type": "markdown",
   "source": [
    "# Setup"
   ],
   "metadata": {}
  },
  {
   "cell_type": "code",
   "execution_count": 16,
   "source": [
    "import numpy as np\r\n",
    "import seaborn as sns\r\n",
    "import pandas as pd\r\n",
    "import glob"
   ],
   "outputs": [],
   "metadata": {}
  },
  {
   "cell_type": "markdown",
   "source": [
    "# Functions"
   ],
   "metadata": {}
  },
  {
   "cell_type": "code",
   "execution_count": 17,
   "source": [
    "def read_csv(filepath, cols, names):\r\n",
    "    df = pd.read_csv(filepath, usecols = cols, names = names, header = None)\r\n",
    "    df = df.drop([0], axis = 0) # Remove first row (headers)\r\n",
    "    df = df.astype('float64') # Cast data to floats\r\n",
    "    \r\n",
    "    return df"
   ],
   "outputs": [],
   "metadata": {}
  },
  {
   "cell_type": "code",
   "execution_count": 210,
   "source": [
    "def get_class_df(file_path, df):\r\n",
    "    class_name = '_'.join(file_path.split('\\\\')[-1].split('_')[:-1])\r\n",
    "\r\n",
    "    return pd.DataFrame({'class': [class_name for _ in range(len(df))]})"
   ],
   "outputs": [],
   "metadata": {}
  },
  {
   "cell_type": "code",
   "execution_count": 211,
   "source": [
    "def read_acc_mag_csvs():\r\n",
    "    X = pd.DataFrame()\r\n",
    "    y = pd.DataFrame(columns=['class'])\r\n",
    "    \r\n",
    "    for file in glob.glob('data/cleaned/acc_mag/*.csv'):\r\n",
    "\r\n",
    "        if 'acc' in file:\r\n",
    "            mag_file = file.replace(file.split('\\\\')[-1], file.split('\\\\')[-1].replace('acc', 'mag'))\r\n",
    "            \r\n",
    "            df_acc = read_csv(file, [1,2,3], ['ax', 'ay', 'az'])\r\n",
    "            df_mag = read_csv(mag_file, [1,2,3], ['mx', 'my', 'mz'])\r\n",
    "            \r\n",
    "            df = pd.concat([df_acc, df_mag], axis=1, join='inner')\r\n",
    "            X = X.append(df, ignore_index=True)            \r\n",
    "\r\n",
    "            y = y.append(get_class_df(file, df), ignore_index=True)\r\n",
    "\r\n",
    "    return X, y"
   ],
   "outputs": [],
   "metadata": {}
  },
  {
   "cell_type": "code",
   "execution_count": 214,
   "source": [
    "def read_acc_gyro_csvs():\r\n",
    "    X = pd.DataFrame()\r\n",
    "    y = pd.DataFrame(columns=['class'])\r\n",
    "    \r\n",
    "    for file in glob.glob('data/cleaned/acc_gyro/*.csv'):\r\n",
    "\r\n",
    "        if 'acc' in file:\r\n",
    "            gyro_file = file.replace(file.split('\\\\')[-1], file.split('\\\\')[-1].replace('acc', 'gyro'))\r\n",
    "            \r\n",
    "            df_acc = read_csv(file, [1,2,3], ['ax', 'ay', 'az'])\r\n",
    "            df_gyro = read_csv(gyro_file, [1,2,3], ['gx', 'gy', 'gz'])\r\n",
    "            \r\n",
    "            df = pd.concat([df_acc, df_gyro], axis=1, join='inner')\r\n",
    "            X = X.append(df, ignore_index = True)\r\n",
    "            \r\n",
    "            y = y.append(get_class_df(file, df), ignore_index=True)\r\n",
    "        \r\n",
    "    return X, y"
   ],
   "outputs": [],
   "metadata": {}
  },
  {
   "cell_type": "markdown",
   "source": [
    "# Prepare data"
   ],
   "metadata": {}
  },
  {
   "cell_type": "markdown",
   "source": [
    "## Trim data"
   ],
   "metadata": {}
  },
  {
   "cell_type": "code",
   "execution_count": null,
   "source": [],
   "outputs": [],
   "metadata": {}
  },
  {
   "cell_type": "markdown",
   "source": [
    "## Read data sets"
   ],
   "metadata": {}
  },
  {
   "cell_type": "code",
   "execution_count": 216,
   "source": [
    "X_acc_mag, y_acc_mag = read_acc_mag_csvs()"
   ],
   "outputs": [],
   "metadata": {}
  },
  {
   "cell_type": "code",
   "execution_count": 53,
   "source": [
    "X_acc_gyro, y_acc_gyro = read_acc_gyro_csvs()"
   ],
   "outputs": [],
   "metadata": {}
  }
 ],
 "metadata": {
  "orig_nbformat": 4,
  "language_info": {
   "name": "python",
   "version": "3.7.10",
   "mimetype": "text/x-python",
   "codemirror_mode": {
    "name": "ipython",
    "version": 3
   },
   "pygments_lexer": "ipython3",
   "nbconvert_exporter": "python",
   "file_extension": ".py"
  },
  "kernelspec": {
   "name": "python3",
   "display_name": "Python 3.7.10 64-bit ('DT374B': conda)"
  },
  "interpreter": {
   "hash": "8eedd772e5dd4d568fa3672beec7e0e2a0f5f2c0fdc503b9e0abdb9ab5446698"
  }
 },
 "nbformat": 4,
 "nbformat_minor": 2
}