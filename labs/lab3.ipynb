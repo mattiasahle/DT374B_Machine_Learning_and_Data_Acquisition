{
 "cells": [
  {
   "cell_type": "markdown",
   "source": [
    "# Setup"
   ],
   "metadata": {}
  },
  {
   "cell_type": "code",
   "execution_count": 1,
   "source": [
    "import numpy as np\r\n",
    "import seaborn as sns\r\n",
    "import pandas as pd\r\n",
    "import glob"
   ],
   "outputs": [
    {
     "output_type": "stream",
     "name": "stderr",
     "text": [
      "\n",
      "Bad key \"text.kerning_factor\" on line 4 in\n",
      "C:\\Users\\olsso\\anaconda3\\envs\\DT374B\\lib\\site-packages\\matplotlib\\mpl-data\\stylelib\\_classic_test_patch.mplstyle.\n",
      "You probably need to get an updated matplotlibrc file from\n",
      "https://github.com/matplotlib/matplotlib/blob/v3.1.2/matplotlibrc.template\n",
      "or from the matplotlib source distribution\n"
     ]
    }
   ],
   "metadata": {}
  },
  {
   "cell_type": "markdown",
   "source": [
    "# Functions"
   ],
   "metadata": {}
  },
  {
   "cell_type": "code",
   "execution_count": 2,
   "source": [
    "def read_csv(filepath, cols, names):\r\n",
    "    df = pd.read_csv(filepath, usecols=cols, names=names, header=None)\r\n",
    "    df = df.drop([0], axis=0) # Remove first row (headers)\r\n",
    "    df = df.astype('float64') # Cast data to floats\r\n",
    "    \r\n",
    "    return df"
   ],
   "outputs": [],
   "metadata": {}
  },
  {
   "cell_type": "code",
   "execution_count": 3,
   "source": [
    "def read_csvs(class_name, set_name):\r\n",
    "    names = ['ax', 'ay', 'az', 'mx', 'my', 'mz']\r\n",
    "    X = pd.DataFrame()\r\n",
    "    y = pd.DataFrame(columns=['class'])\r\n",
    "    \r\n",
    "    for file in glob.glob('data/cleaned/' + set_name + '/' + class_name + '*.csv'):\r\n",
    "\r\n",
    "        if 'acc' in file:\r\n",
    "            mag_file = file.replace('acc', 'mag')\r\n",
    "            \r\n",
    "            df_acc = read_csv(file, [2,3,4], names[:3])\r\n",
    "            df_mag = read_csv(mag_file, [2,3,4], names[3:])\r\n",
    "            \r\n",
    "            df = pd.concat([df_acc, df_mag], axis=1, join='inner')\r\n",
    "            X = X.append(df, ignore_index=True)\r\n",
    "            \r\n",
    "            print(file + '\\tLength: ', end='')\r\n",
    "            print(len(df_acc))\r\n",
    "            print(mag_file + '\\tLength: ', end='')\r\n",
    "            print(len(df_mag))\r\n",
    "            #print(X)\r\n",
    "            \r\n",
    "    y['class'] = [class_name for i in range(len(X))]\r\n",
    "        \r\n",
    "    return X, y"
   ],
   "outputs": [],
   "metadata": {}
  }
 ],
 "metadata": {
  "orig_nbformat": 4,
  "language_info": {
   "name": "python",
   "version": "3.7.10",
   "mimetype": "text/x-python",
   "codemirror_mode": {
    "name": "ipython",
    "version": 3
   },
   "pygments_lexer": "ipython3",
   "nbconvert_exporter": "python",
   "file_extension": ".py"
  },
  "kernelspec": {
   "name": "python3",
   "display_name": "Python 3.7.10 64-bit ('DT374B': conda)"
  },
  "interpreter": {
   "hash": "8eedd772e5dd4d568fa3672beec7e0e2a0f5f2c0fdc503b9e0abdb9ab5446698"
  }
 },
 "nbformat": 4,
 "nbformat_minor": 2
}