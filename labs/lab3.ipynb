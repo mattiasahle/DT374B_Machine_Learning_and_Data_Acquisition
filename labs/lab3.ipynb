{
 "cells": [
  {
   "cell_type": "markdown",
   "source": [
    "# Setup"
   ],
   "metadata": {}
  },
  {
   "cell_type": "code",
   "execution_count": 16,
   "source": [
    "import numpy as np\r\n",
    "import seaborn as sns\r\n",
    "import pandas as pd\r\n",
    "import glob"
   ],
   "outputs": [],
   "metadata": {}
  },
  {
   "cell_type": "markdown",
   "source": [
    "# Functions"
   ],
   "metadata": {}
  },
  {
   "cell_type": "code",
   "execution_count": 17,
   "source": [
    "def read_csv(filepath, cols, names):\r\n",
    "    df = pd.read_csv(filepath, usecols = cols, names = names, header = None)\r\n",
    "    df = df.drop([0], axis = 0) # Remove first row (headers)\r\n",
    "    df = df.astype('float64') # Cast data to floats\r\n",
    "    \r\n",
    "    return df"
   ],
   "outputs": [],
   "metadata": {}
  },
  {
   "cell_type": "code",
   "execution_count": 34,
   "source": [
    "def read_acc_mag_csvs(class_name, set_name, column_names):\r\n",
    "    X = pd.DataFrame()\r\n",
    "    y = pd.DataFrame(columns=['class'])\r\n",
    "    \r\n",
    "    for file in glob.glob('data/cleaned/' + set_name + '/' + class_name + '*.csv'):\r\n",
    "\r\n",
    "        if 'acc' in file:\r\n",
    "            mag_file = file.replace('acc', 'mag')\r\n",
    "            \r\n",
    "            df_acc = read_csv(file, [1,2,3], column_names[:3])\r\n",
    "            df_mag = read_csv(mag_file, [1,2,3], column_names[3:])\r\n",
    "            \r\n",
    "            df = pd.concat([df_acc, df_mag], axis=1, join='inner')\r\n",
    "            X = X.append(df, ignore_index=True)\r\n",
    "            \r\n",
    "            '''\r\n",
    "            print(file + '\\tLength: ', end='')\r\n",
    "            print(len(df_acc))\r\n",
    "            print(mag_file + '\\tLength: ', end='')\r\n",
    "            print(len(df_mag))\r\n",
    "            '''\r\n",
    "            \r\n",
    "    y['class'] = [class_name for i in range(len(X))]\r\n",
    "        \r\n",
    "    return X, y"
   ],
   "outputs": [],
   "metadata": {}
  },
  {
   "cell_type": "code",
   "execution_count": 35,
   "source": [
    "def get_data_set(set_name):\r\n",
    "    acc_mag_col_names = ['ax', 'ay', 'az', 'mx', 'my', 'mz']\r\n",
    "\r\n",
    "    # Still\r\n",
    "    X_sit, y_sit = read_acc_mag_csvs('sit', set_name, acc_mag_col_names)\r\n",
    "    X_stand, y_stand = read_acc_mag_csvs('stand', set_name, acc_mag_col_names)\r\n",
    "    X_lie, y_lie = read_acc_mag_csvs('lie', set_name, acc_mag_col_names)\r\n",
    "\r\n",
    "    # Movement\r\n",
    "    X_sit_to_stand, y_sit_to_stand = read_acc_mag_csvs('move/sit_to_stand', set_name, acc_mag_col_names)\r\n",
    "    X_stand_to_sit, y_stand_to_sit = read_acc_mag_csvs('move/stand_to_sit', set_name, acc_mag_col_names)\r\n",
    "\r\n",
    "    X = pd.concat([X_sit, X_stand, X_lie, X_sit_to_stand, X_stand_to_sit], ignore_index=True)\r\n",
    "    y = pd.concat([y_sit, y_stand, y_lie, y_sit_to_stand, y_stand_to_sit], ignore_index=True)\r\n",
    "\r\n",
    "    return X, y"
   ],
   "outputs": [],
   "metadata": {}
  },
  {
   "cell_type": "markdown",
   "source": [
    "# Get data sets"
   ],
   "metadata": {}
  },
  {
   "cell_type": "code",
   "execution_count": 36,
   "source": [
    "X_train, y_train = get_data_set('train')\r\n",
    "X_test, y_test = get_data_set('test')"
   ],
   "outputs": [],
   "metadata": {}
  }
 ],
 "metadata": {
  "orig_nbformat": 4,
  "language_info": {
   "name": "python",
   "version": "3.7.10",
   "mimetype": "text/x-python",
   "codemirror_mode": {
    "name": "ipython",
    "version": 3
   },
   "pygments_lexer": "ipython3",
   "nbconvert_exporter": "python",
   "file_extension": ".py"
  },
  "kernelspec": {
   "name": "python3",
   "display_name": "Python 3.7.10 64-bit ('DT374B': conda)"
  },
  "interpreter": {
   "hash": "8eedd772e5dd4d568fa3672beec7e0e2a0f5f2c0fdc503b9e0abdb9ab5446698"
  }
 },
 "nbformat": 4,
 "nbformat_minor": 2
}