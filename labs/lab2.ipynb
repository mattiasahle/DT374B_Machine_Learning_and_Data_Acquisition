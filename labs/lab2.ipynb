{
 "cells": [
  {
   "cell_type": "markdown",
   "source": [
    "# Lab: Machine Learning and Data Acquisition"
   ],
   "metadata": {}
  },
  {
   "cell_type": "markdown",
   "source": [
    "# Lab 2"
   ],
   "metadata": {}
  },
  {
   "cell_type": "markdown",
   "source": [
    "## Setup"
   ],
   "metadata": {}
  },
  {
   "cell_type": "code",
   "execution_count": 21,
   "source": [
    "import numpy as np\r\n",
    "import matplotlib.pyplot as plt\r\n",
    "import seaborn as sns\r\n",
    "import pandas as pd"
   ],
   "outputs": [
    {
     "output_type": "stream",
     "name": "stderr",
     "text": [
      "\n",
      "Bad key \"text.kerning_factor\" on line 4 in\n",
      "C:\\Users\\olsso\\anaconda3\\envs\\DT374B\\lib\\site-packages\\matplotlib\\mpl-data\\stylelib\\_classic_test_patch.mplstyle.\n",
      "You probably need to get an updated matplotlibrc file from\n",
      "https://github.com/matplotlib/matplotlib/blob/v3.1.2/matplotlibrc.template\n",
      "or from the matplotlib source distribution\n"
     ]
    }
   ],
   "metadata": {}
  },
  {
   "cell_type": "markdown",
   "source": [
    "## Variables"
   ],
   "metadata": {}
  },
  {
   "cell_type": "code",
   "execution_count": 54,
   "source": [
    "weights = 'distance'"
   ],
   "outputs": [],
   "metadata": {}
  },
  {
   "cell_type": "markdown",
   "source": [
    "## Functions"
   ],
   "metadata": {}
  },
  {
   "cell_type": "code",
   "execution_count": 2,
   "source": [
    "def read_csv(filepath, cols, names):\r\n",
    "    df = pd.read_csv(filepath, usecols=cols, names=names, header=None)\r\n",
    "    df = df.drop([0], axis=0) # Remove first row (headers)\r\n",
    "    df = df.astype('float64') # Cast data to floats\r\n",
    "    \r\n",
    "    return df"
   ],
   "outputs": [],
   "metadata": {}
  },
  {
   "cell_type": "code",
   "execution_count": 3,
   "source": [
    "import glob\r\n",
    "\r\n",
    "def read_csvs(class_name, set_name):\r\n",
    "    names = ['ax', 'ay', 'az', 'mx', 'my', 'mz']\r\n",
    "    X = pd.DataFrame()\r\n",
    "    y = pd.DataFrame(columns=['class'])\r\n",
    "    \r\n",
    "    for file in glob.glob('data/cleaned/' + set_name + '/' + class_name + '*.csv'):\r\n",
    "        if 'acc' in file:\r\n",
    "            mag_file = file.replace('acc', 'mag')\r\n",
    "            \r\n",
    "            df_acc = read_csv(file, [1,2,3], names[:3])\r\n",
    "            df_mag = read_csv(mag_file, [1,2,3], names[3:])\r\n",
    "            \r\n",
    "            df = pd.concat([df_acc, df_mag], axis=1, join='inner')\r\n",
    "            X = X.append(df, ignore_index=True)\r\n",
    "            \r\n",
    "            print(file + '\\tLength: ', end='')\r\n",
    "            print(len(df_acc))\r\n",
    "            print(mag_file + '\\tLength: ', end='')\r\n",
    "            print(len(df_mag))\r\n",
    "            #print(X)\r\n",
    "            \r\n",
    "    y['class'] = [class_name for i in range(len(X))]\r\n",
    "        \r\n",
    "    return X, y"
   ],
   "outputs": [],
   "metadata": {}
  },
  {
   "cell_type": "code",
   "execution_count": 18,
   "source": [
    "def calc_norms(df):\r\n",
    "    l = []\r\n",
    "    \r\n",
    "    for i in range(len(df)):\r\n",
    "        l.append(np.linalg.norm(df.iloc[i]))\r\n",
    "        \r\n",
    "    return pd.DataFrame({'Norm': l})"
   ],
   "outputs": [],
   "metadata": {}
  },
  {
   "cell_type": "code",
   "execution_count": 27,
   "source": [
    "def calc_angle(df, axis, i):\r\n",
    "    return np.rad2deg(np.arccos(df[axis].iloc[i] / np.linalg.norm(df.iloc[i])))"
   ],
   "outputs": [],
   "metadata": {}
  },
  {
   "cell_type": "code",
   "execution_count": 28,
   "source": [
    "def calc_angles(df, axis):\r\n",
    "    l = []\r\n",
    "    \r\n",
    "    for i in range(len(df)):\r\n",
    "        l.append(calc_angle(df, axis, i))\r\n",
    "        \r\n",
    "    return pd.DataFrame({'Angle': l})"
   ],
   "outputs": [],
   "metadata": {}
  },
  {
   "cell_type": "code",
   "execution_count": 55,
   "source": [
    "from sklearn.neighbors import KNeighborsClassifier\r\n",
    "from sklearn.model_selection import GridSearchCV\r\n",
    "\r\n",
    "def train_knn(X, y):\r\n",
    "    #create a dictionary of all values we want to test for n_neighbors\r\n",
    "    param_grid = {'n_neighbors': np.arange(1, 60)}\r\n",
    "\r\n",
    "    #use gridsearch to test all values for n_neighbors\r\n",
    "    knn_gscv = GridSearchCV(KNeighborsClassifier(weights = weights), param_grid, cv = 5)\r\n",
    "\r\n",
    "    #fit model to data\r\n",
    "    knn_gscv.fit(X, y.values.ravel())\r\n",
    "\r\n",
    "    print('Best k:\\t', knn_gscv.best_params_)\r\n",
    "    print('Score:\\t', knn_gscv.best_score_)\r\n",
    "\r\n",
    "    return knn_gscv"
   ],
   "outputs": [],
   "metadata": {}
  },
  {
   "cell_type": "code",
   "execution_count": 56,
   "source": [
    "from sklearn.model_selection import cross_val_score\r\n",
    "\r\n",
    "def plot_accuracy_of_k(X, y):\r\n",
    "    cv_scores = []\r\n",
    "    my_range = range(1, 60)\r\n",
    "\r\n",
    "    for k in my_range:\r\n",
    "        knn_cv = KNeighborsClassifier(n_neighbors = k, weights = weights)\r\n",
    "        cv_scores.append(cross_val_score(knn_cv, X, y.values.ravel(), cv = 5, scoring='accuracy').mean())\r\n",
    "\r\n",
    "    df_scores = pd.DataFrame(cv_scores, index = my_range)\r\n",
    "    df_scores.plot(xlabel = 'k', ylabel = 'Accuracy', legend = False)"
   ],
   "outputs": [],
   "metadata": {}
  },
  {
   "cell_type": "code",
   "execution_count": 57,
   "source": [
    "from sklearn.metrics import confusion_matrix\r\n",
    "\r\n",
    "def print_conf_matrix(X, y, knn):\r\n",
    "    conf_matrix = confusion_matrix(y, knn.predict(X))\r\n",
    "    print(knn.classes_)\r\n",
    "    print(conf_matrix)"
   ],
   "outputs": [],
   "metadata": {}
  },
  {
   "cell_type": "markdown",
   "source": [
    "## Read data"
   ],
   "metadata": {}
  },
  {
   "cell_type": "markdown",
   "source": [
    "### Raw cleaned data"
   ],
   "metadata": {}
  },
  {
   "cell_type": "code",
   "execution_count": 6,
   "source": [
    "X_sit_train, y_sit_train = read_csvs('sit', 'train')"
   ],
   "outputs": [
    {
     "output_type": "stream",
     "name": "stdout",
     "text": [
      "data/cleaned/train\\sit_acc1.csv\tLength: 500\n",
      "data/cleaned/train\\sit_mag1.csv\tLength: 500\n",
      "data/cleaned/train\\sit_acc2.csv\tLength: 450\n",
      "data/cleaned/train\\sit_mag2.csv\tLength: 450\n"
     ]
    }
   ],
   "metadata": {}
  },
  {
   "cell_type": "code",
   "execution_count": 7,
   "source": [
    "X_stand_train, y_stand_train = read_csvs('stand', 'train')"
   ],
   "outputs": [
    {
     "output_type": "stream",
     "name": "stdout",
     "text": [
      "data/cleaned/train\\stand_acc1.csv\tLength: 550\n",
      "data/cleaned/train\\stand_mag1.csv\tLength: 550\n",
      "data/cleaned/train\\stand_acc2.csv\tLength: 500\n",
      "data/cleaned/train\\stand_mag2.csv\tLength: 500\n"
     ]
    }
   ],
   "metadata": {}
  },
  {
   "cell_type": "code",
   "execution_count": 8,
   "source": [
    "X_lie_train, y_lie_train = read_csvs('lie', 'train')"
   ],
   "outputs": [
    {
     "output_type": "stream",
     "name": "stdout",
     "text": [
      "data/cleaned/train\\lie_acc1.csv\tLength: 550\n",
      "data/cleaned/train\\lie_mag1.csv\tLength: 550\n",
      "data/cleaned/train\\lie_acc2.csv\tLength: 550\n",
      "data/cleaned/train\\lie_mag2.csv\tLength: 550\n"
     ]
    }
   ],
   "metadata": {}
  },
  {
   "cell_type": "code",
   "execution_count": 9,
   "source": [
    "X_sit_test, y_sit_test = read_csvs('sit', 'test')"
   ],
   "outputs": [
    {
     "output_type": "stream",
     "name": "stdout",
     "text": [
      "data/cleaned/test\\sit_acc3.csv\tLength: 450\n",
      "data/cleaned/test\\sit_mag3.csv\tLength: 450\n"
     ]
    }
   ],
   "metadata": {}
  },
  {
   "cell_type": "code",
   "execution_count": 10,
   "source": [
    "X_stand_test, y_stand_test = read_csvs('stand', 'test')"
   ],
   "outputs": [
    {
     "output_type": "stream",
     "name": "stdout",
     "text": [
      "data/cleaned/test\\stand_acc3.csv\tLength: 600\n",
      "data/cleaned/test\\stand_mag3.csv\tLength: 600\n"
     ]
    }
   ],
   "metadata": {}
  },
  {
   "cell_type": "code",
   "execution_count": 11,
   "source": [
    "X_lie_test, y_lie_test = read_csvs('lie', 'test')"
   ],
   "outputs": [
    {
     "output_type": "stream",
     "name": "stdout",
     "text": [
      "data/cleaned/test\\lie_acc3.csv\tLength: 550\n",
      "data/cleaned/test\\lie_mag3.csv\tLength: 550\n"
     ]
    }
   ],
   "metadata": {}
  },
  {
   "cell_type": "code",
   "execution_count": 13,
   "source": [
    "X_train = pd.concat([X_sit_train, X_stand_train, X_lie_train], ignore_index=True)\r\n",
    "y_train = pd.concat([y_sit_train, y_stand_train, y_lie_train], ignore_index=True)"
   ],
   "outputs": [],
   "metadata": {}
  },
  {
   "cell_type": "code",
   "execution_count": 16,
   "source": [
    "X_test = pd.concat([X_sit_test, X_stand_test, X_lie_test], ignore_index=True)\r\n",
    "y_test = pd.concat([y_sit_test, y_stand_test, y_lie_test], ignore_index=True)"
   ],
   "outputs": [],
   "metadata": {}
  },
  {
   "cell_type": "markdown",
   "source": [
    "### Transformed raw cleaned data (norms and angles)"
   ],
   "metadata": {}
  },
  {
   "cell_type": "code",
   "execution_count": 42,
   "source": [
    "X_train_acc_norms = calc_norms(X_train[['ax','ay','az']])\r\n",
    "X_train_acc_norms.rename(columns={'Norm': 'Acc norm'}, inplace=True)\r\n",
    "\r\n",
    "X_test_acc_norms = calc_norms(X_test[['ax','ay','az']])\r\n",
    "X_test_acc_norms.rename(columns={'Norm': 'Acc norm'}, inplace=True)"
   ],
   "outputs": [],
   "metadata": {}
  },
  {
   "cell_type": "code",
   "execution_count": 34,
   "source": [
    "X_train_mag_norms = calc_norms(X_train[['mx','my','mz']])\r\n",
    "X_train_mag_norms.rename(columns={'Norm': 'Mag norm'}, inplace=True)\r\n",
    "\r\n",
    "X_test_mag_norms = calc_norms(X_test[['mx','my','mz']])\r\n",
    "X_test_mag_norms.rename(columns={'Norm': 'Mag norm'}, inplace=True)"
   ],
   "outputs": [],
   "metadata": {}
  },
  {
   "cell_type": "code",
   "execution_count": 35,
   "source": [
    "X_train_acc_angles = calc_angles(X_train[['ax','ay','az']], X_train.columns[2])\r\n",
    "X_train_acc_angles.rename(columns={'Angle': 'Acc z angle'}, inplace=True)\r\n",
    "\r\n",
    "X_test_acc_angles = calc_angles(X_test[['ax','ay','az']], X_train.columns[2])\r\n",
    "X_test_acc_angles.rename(columns={'Angle': 'Acc z angle'}, inplace=True)"
   ],
   "outputs": [],
   "metadata": {}
  },
  {
   "cell_type": "code",
   "execution_count": 36,
   "source": [
    "X_train_mag_angles = calc_angles(X_train[['mx','my','mz']], X_train.columns[4])\r\n",
    "X_train_mag_angles.rename(columns={'Angle': 'Mag y angle'}, inplace=True)\r\n",
    "\r\n",
    "X_test_mag_angles = calc_angles(X_test[['mx','my','mz']], X_train.columns[4])\r\n",
    "X_test_mag_angles.rename(columns={'Angle': 'Mag y angle'}, inplace=True)"
   ],
   "outputs": [],
   "metadata": {}
  },
  {
   "cell_type": "code",
   "execution_count": 50,
   "source": [
    "X_train_transformed = pd.concat([X_train_acc_norms, X_train_mag_norms, X_train_acc_angles, X_train_mag_angles], axis = 1)\r\n",
    "X_test_transformed = pd.concat([X_test_acc_norms, X_test_mag_norms, X_test_acc_angles, X_test_mag_angles], axis = 1)"
   ],
   "outputs": [],
   "metadata": {}
  },
  {
   "cell_type": "markdown",
   "source": [
    "## Tasks"
   ],
   "metadata": {}
  },
  {
   "cell_type": "markdown",
   "source": [
    "#### The iris set is evaluated in a separate file: lab2_iris.ipynb"
   ],
   "metadata": {}
  },
  {
   "cell_type": "markdown",
   "source": [
    "### KNN once again with your own recorded data"
   ],
   "metadata": {}
  },
  {
   "cell_type": "markdown",
   "source": [
    "#### 1. Should you use the standard scaler or not when you work with the data? You need to motivate your answer and explain why\r\n",
    "\r\n",
    "If only accelerometer values are used no scaling is required since the are already to the same scale.<p>\r\n",
    "If both accelerometer and magnetometer values are used scaling might be required as the magnetometer values generally are larger."
   ],
   "metadata": {}
  },
  {
   "cell_type": "code",
   "execution_count": 60,
   "source": [
    "X_train.describe()"
   ],
   "outputs": [
    {
     "output_type": "execute_result",
     "data": {
      "text/html": [
       "<div>\n",
       "<style scoped>\n",
       "    .dataframe tbody tr th:only-of-type {\n",
       "        vertical-align: middle;\n",
       "    }\n",
       "\n",
       "    .dataframe tbody tr th {\n",
       "        vertical-align: top;\n",
       "    }\n",
       "\n",
       "    .dataframe thead th {\n",
       "        text-align: right;\n",
       "    }\n",
       "</style>\n",
       "<table border=\"1\" class=\"dataframe\">\n",
       "  <thead>\n",
       "    <tr style=\"text-align: right;\">\n",
       "      <th></th>\n",
       "      <th>ax</th>\n",
       "      <th>ay</th>\n",
       "      <th>az</th>\n",
       "      <th>mx</th>\n",
       "      <th>my</th>\n",
       "      <th>mz</th>\n",
       "    </tr>\n",
       "  </thead>\n",
       "  <tbody>\n",
       "    <tr>\n",
       "      <th>count</th>\n",
       "      <td>3100.000000</td>\n",
       "      <td>3100.000000</td>\n",
       "      <td>3100.000000</td>\n",
       "      <td>3100.000000</td>\n",
       "      <td>3100.000000</td>\n",
       "      <td>3100.000000</td>\n",
       "    </tr>\n",
       "    <tr>\n",
       "      <th>mean</th>\n",
       "      <td>1.467447</td>\n",
       "      <td>-4.312653</td>\n",
       "      <td>5.186234</td>\n",
       "      <td>-31.870930</td>\n",
       "      <td>22.152321</td>\n",
       "      <td>-15.236801</td>\n",
       "    </tr>\n",
       "    <tr>\n",
       "      <th>std</th>\n",
       "      <td>3.178907</td>\n",
       "      <td>3.635546</td>\n",
       "      <td>4.976354</td>\n",
       "      <td>17.411648</td>\n",
       "      <td>22.519195</td>\n",
       "      <td>14.456745</td>\n",
       "    </tr>\n",
       "    <tr>\n",
       "      <th>min</th>\n",
       "      <td>-2.589932</td>\n",
       "      <td>-9.559626</td>\n",
       "      <td>-2.177170</td>\n",
       "      <td>-59.325000</td>\n",
       "      <td>-3.300000</td>\n",
       "      <td>-38.568752</td>\n",
       "    </tr>\n",
       "    <tr>\n",
       "      <th>25%</th>\n",
       "      <td>-1.598405</td>\n",
       "      <td>-9.288938</td>\n",
       "      <td>-1.489831</td>\n",
       "      <td>-51.956253</td>\n",
       "      <td>4.326562</td>\n",
       "      <td>-26.325000</td>\n",
       "    </tr>\n",
       "    <tr>\n",
       "      <th>50%</th>\n",
       "      <td>0.623629</td>\n",
       "      <td>-2.394916</td>\n",
       "      <td>7.432406</td>\n",
       "      <td>-30.665627</td>\n",
       "      <td>10.593750</td>\n",
       "      <td>-16.987500</td>\n",
       "    </tr>\n",
       "    <tr>\n",
       "      <th>75%</th>\n",
       "      <td>4.994120</td>\n",
       "      <td>-1.197010</td>\n",
       "      <td>9.704391</td>\n",
       "      <td>-13.837501</td>\n",
       "      <td>52.331253</td>\n",
       "      <td>0.675000</td>\n",
       "    </tr>\n",
       "    <tr>\n",
       "      <th>max</th>\n",
       "      <td>6.625427</td>\n",
       "      <td>-1.055833</td>\n",
       "      <td>9.934401</td>\n",
       "      <td>-7.106250</td>\n",
       "      <td>55.631252</td>\n",
       "      <td>6.881250</td>\n",
       "    </tr>\n",
       "  </tbody>\n",
       "</table>\n",
       "</div>"
      ],
      "text/plain": [
       "                ax           ay           az           mx           my  \\\n",
       "count  3100.000000  3100.000000  3100.000000  3100.000000  3100.000000   \n",
       "mean      1.467447    -4.312653     5.186234   -31.870930    22.152321   \n",
       "std       3.178907     3.635546     4.976354    17.411648    22.519195   \n",
       "min      -2.589932    -9.559626    -2.177170   -59.325000    -3.300000   \n",
       "25%      -1.598405    -9.288938    -1.489831   -51.956253     4.326562   \n",
       "50%       0.623629    -2.394916     7.432406   -30.665627    10.593750   \n",
       "75%       4.994120    -1.197010     9.704391   -13.837501    52.331253   \n",
       "max       6.625427    -1.055833     9.934401    -7.106250    55.631252   \n",
       "\n",
       "                mz  \n",
       "count  3100.000000  \n",
       "mean    -15.236801  \n",
       "std      14.456745  \n",
       "min     -38.568752  \n",
       "25%     -26.325000  \n",
       "50%     -16.987500  \n",
       "75%       0.675000  \n",
       "max       6.881250  "
      ]
     },
     "metadata": {},
     "execution_count": 60
    }
   ],
   "metadata": {}
  },
  {
   "cell_type": "markdown",
   "source": [
    "#### 2. Train the KNN classifier with your training data (cross validation!) Choose the k value that is optimal. You should present the result accuracy as a function of k. Present the confusion matrix and explain the result.\r\n",
    "\r\n",
    "As seen below no scaling was required using all features - the model predicted all instances correctly."
   ],
   "metadata": {}
  },
  {
   "cell_type": "code",
   "execution_count": 63,
   "source": [
    "knn_all_features = train_knn(X_train, y_train)"
   ],
   "outputs": [
    {
     "output_type": "stream",
     "name": "stdout",
     "text": [
      "Best k:\t {'n_neighbors': 1}\n",
      "Score:\t 1.0\n"
     ]
    }
   ],
   "metadata": {}
  },
  {
   "cell_type": "code",
   "execution_count": 64,
   "source": [
    "plot_accuracy_of_k(X_train, y_train)"
   ],
   "outputs": [
    {
     "output_type": "display_data",
     "data": {
      "image/png": "[encoded data removed]",
      "text/plain": [
       "<Figure size 432x288 with 1 Axes>"
      ]
     },
     "metadata": {
      "needs_background": "light"
     }
    }
   ],
   "metadata": {}
  },
  {
   "cell_type": "code",
   "execution_count": 65,
   "source": [
    "print_conf_matrix(X_train, y_train, knn_all_features)"
   ],
   "outputs": [
    {
     "output_type": "stream",
     "name": "stdout",
     "text": [
      "['lie' 'sit' 'stand']\n",
      "[[1100    0    0]\n",
      " [   0  950    0]\n",
      " [   0    0 1050]]\n"
     ]
    }
   ],
   "metadata": {}
  },
  {
   "cell_type": "markdown",
   "source": [
    "#### 3. Test the KNN classifier with the optimal k using the test data set. Present the accuracy and confusion matrix. Explain the result and compare it with the training set."
   ],
   "metadata": {}
  },
  {
   "cell_type": "code",
   "execution_count": 66,
   "source": [
    "plot_accuracy_of_k(X_test, y_test)"
   ],
   "outputs": [
    {
     "output_type": "display_data",
     "data": {
      "image/png": "[encoded data removed]",
      "text/plain": [
       "<Figure size 432x288 with 1 Axes>"
      ]
     },
     "metadata": {
      "needs_background": "light"
     }
    }
   ],
   "metadata": {}
  },
  {
   "cell_type": "code",
   "execution_count": 67,
   "source": [
    "knn_all_features.best_score_"
   ],
   "outputs": [
    {
     "output_type": "execute_result",
     "data": {
      "text/plain": [
       "1.0"
      ]
     },
     "metadata": {},
     "execution_count": 67
    }
   ],
   "metadata": {}
  },
  {
   "cell_type": "code",
   "execution_count": 68,
   "source": [
    "print_conf_matrix(X_test, y_test, knn_all_features)"
   ],
   "outputs": [
    {
     "output_type": "stream",
     "name": "stdout",
     "text": [
      "['lie' 'sit' 'stand']\n",
      "[[550   0   0]\n",
      " [  0 450   0]\n",
      " [  0   0 600]]\n"
     ]
    }
   ],
   "metadata": {}
  },
  {
   "cell_type": "markdown",
   "source": [
    "#### 4. Redo point 2 and 3 but only use feature 1-3. Compare with the result in 3 with point 3 above."
   ],
   "metadata": {}
  },
  {
   "cell_type": "code",
   "execution_count": 69,
   "source": [
    "knn_acc = train_knn(X_train[['ax', 'ay', 'az']], y_train)"
   ],
   "outputs": [
    {
     "output_type": "stream",
     "name": "stdout",
     "text": [
      "Best k:\t {'n_neighbors': 1}\n",
      "Score:\t 1.0\n"
     ]
    }
   ],
   "metadata": {}
  },
  {
   "cell_type": "code",
   "execution_count": 70,
   "source": [
    "plot_accuracy_of_k(X_train[['ax', 'ay', 'az']], y_train)"
   ],
   "outputs": [
    {
     "output_type": "display_data",
     "data": {
      "image/png": "[encoded data removed]",
      "text/plain": [
       "<Figure size 432x288 with 1 Axes>"
      ]
     },
     "metadata": {
      "needs_background": "light"
     }
    }
   ],
   "metadata": {}
  },
  {
   "cell_type": "code",
   "execution_count": 71,
   "source": [
    "print_conf_matrix(X_train[['ax', 'ay', 'az']], y_train, knn_acc)"
   ],
   "outputs": [
    {
     "output_type": "stream",
     "name": "stdout",
     "text": [
      "['lie' 'sit' 'stand']\n",
      "[[1100    0    0]\n",
      " [   0  950    0]\n",
      " [   0    0 1050]]\n"
     ]
    }
   ],
   "metadata": {}
  },
  {
   "cell_type": "code",
   "execution_count": 74,
   "source": [
    "print_conf_matrix(X_test[['ax', 'ay', 'az']], y_test, knn_acc)"
   ],
   "outputs": [
    {
     "output_type": "stream",
     "name": "stdout",
     "text": [
      "['lie' 'sit' 'stand']\n",
      "[[550   0   0]\n",
      " [  0 450   0]\n",
      " [  0   0 600]]\n"
     ]
    }
   ],
   "metadata": {}
  },
  {
   "cell_type": "markdown",
   "source": [
    "#### 5. Redo point 2 and 3 but only use feature 4-6. Compare with the result in 3 with point 3 above."
   ],
   "metadata": {}
  },
  {
   "cell_type": "code",
   "execution_count": 79,
   "source": [
    "knn_mag = train_knn(X_train[['mx', 'my', 'mz']], y_train)"
   ],
   "outputs": [
    {
     "output_type": "stream",
     "name": "stdout",
     "text": [
      "Best k:\t {'n_neighbors': 1}\n",
      "Score:\t 1.0\n"
     ]
    }
   ],
   "metadata": {}
  },
  {
   "cell_type": "code",
   "execution_count": 80,
   "source": [
    "plot_accuracy_of_k(X_train[['mx', 'my', 'mz']], y_train)"
   ],
   "outputs": [
    {
     "output_type": "display_data",
     "data": {
      "image/png": "[encoded data removed]",
      "text/plain": [
       "<Figure size 432x288 with 1 Axes>"
      ]
     },
     "metadata": {
      "needs_background": "light"
     }
    }
   ],
   "metadata": {}
  },
  {
   "cell_type": "code",
   "execution_count": 81,
   "source": [
    "print_conf_matrix(X_train[['mx', 'my', 'mz']], y_train, knn_mag)"
   ],
   "outputs": [
    {
     "output_type": "stream",
     "name": "stdout",
     "text": [
      "['lie' 'sit' 'stand']\n",
      "[[1100    0    0]\n",
      " [   0  950    0]\n",
      " [   0    0 1050]]\n"
     ]
    }
   ],
   "metadata": {}
  },
  {
   "cell_type": "code",
   "execution_count": 82,
   "source": [
    "print_conf_matrix(X_test[['mx', 'my', 'mz']], y_test, knn_mag)"
   ],
   "outputs": [
    {
     "output_type": "stream",
     "name": "stdout",
     "text": [
      "['lie' 'sit' 'stand']\n",
      "[[550   0   0]\n",
      " [  0 450   0]\n",
      " [  0   0 600]]\n"
     ]
    }
   ],
   "metadata": {}
  },
  {
   "cell_type": "markdown",
   "source": [
    "### KNN– with transformed recorded data"
   ],
   "metadata": {}
  }
 ],
 "metadata": {
  "orig_nbformat": 4,
  "language_info": {
   "name": "python",
   "version": "3.7.10",
   "mimetype": "text/x-python",
   "codemirror_mode": {
    "name": "ipython",
    "version": 3
   },
   "pygments_lexer": "ipython3",
   "nbconvert_exporter": "python",
   "file_extension": ".py"
  },
  "kernelspec": {
   "name": "python3",
   "display_name": "Python 3.7.10 64-bit ('DT374B': conda)"
  },
  "interpreter": {
   "hash": "8eedd772e5dd4d568fa3672beec7e0e2a0f5f2c0fdc503b9e0abdb9ab5446698"
  }
 },
 "nbformat": 4,
 "nbformat_minor": 2
}