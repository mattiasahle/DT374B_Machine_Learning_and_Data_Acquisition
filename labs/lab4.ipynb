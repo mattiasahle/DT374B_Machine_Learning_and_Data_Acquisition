{
 "cells": [
  {
   "cell_type": "markdown",
   "metadata": {},
   "source": [
    "# Setup"
   ]
  },
  {
   "cell_type": "code",
   "execution_count": 1,
   "metadata": {},
   "outputs": [
    {
     "name": "stderr",
     "output_type": "stream",
     "text": [
      "\n",
      "Bad key \"text.kerning_factor\" on line 4 in\n",
      "C:\\Users\\olsso\\anaconda3\\envs\\DT374B\\lib\\site-packages\\matplotlib\\mpl-data\\stylelib\\_classic_test_patch.mplstyle.\n",
      "You probably need to get an updated matplotlibrc file from\n",
      "https://github.com/matplotlib/matplotlib/blob/v3.1.2/matplotlibrc.template\n",
      "or from the matplotlib source distribution\n"
     ]
    }
   ],
   "source": [
    "import numpy as np\n",
    "import seaborn as sns\n",
    "import pandas as pd\n",
    "import matplotlib\n",
    "import matplotlib.pyplot as plt\n",
    "import glob\n",
    "import sklearn\n",
    "from sklearn.metrics import accuracy_score\n",
    "import tensorflow as tf\n",
    "from tensorflow import keras\n",
    "\n",
    "# to make this notebook's output stable across runs\n",
    "np.random.seed(42)\n",
    "tf.random.set_seed(42)"
   ]
  },
  {
   "cell_type": "markdown",
   "metadata": {},
   "source": [
    "# Functions"
   ]
  },
  {
   "cell_type": "markdown",
   "metadata": {},
   "source": [
    "## File handling"
   ]
  },
  {
   "cell_type": "code",
   "execution_count": 2,
   "metadata": {},
   "outputs": [],
   "source": [
    "def read_csv(filepath, cols, names):\n",
    "    df = pd.read_csv(filepath, usecols = cols, names = names, header = None)\n",
    "    df = df.drop([0], axis = 0) # Remove first row (headers)\n",
    "    df = df.astype('float64') # Cast data to floats\n",
    "    \n",
    "    return df"
   ]
  },
  {
   "cell_type": "code",
   "execution_count": 3,
   "metadata": {},
   "outputs": [],
   "source": [
    "def get_class(file_path):\n",
    "    return '_'.join(file_path.split('\\\\')[-1].split('_')[:-1])"
   ]
  },
  {
   "cell_type": "code",
   "execution_count": 4,
   "metadata": {},
   "outputs": [],
   "source": [
    "def get_class_df(file_path, df):\n",
    "    class_name = get_class(file_path)\n",
    "\n",
    "    return pd.DataFrame({'class': [class_name for _ in range(len(df))]})"
   ]
  },
  {
   "cell_type": "code",
   "execution_count": 5,
   "metadata": {},
   "outputs": [],
   "source": [
    "def read_acc_mag_csvs():\n",
    "    X = pd.DataFrame()\n",
    "    y = pd.DataFrame(columns=['class'])\n",
    "    \n",
    "    for file in glob.glob('data/cleaned/acc_mag/*.csv'):\n",
    "\n",
    "        if 'acc' in file.split('\\\\')[-1]:\n",
    "            mag_file = file.replace(file.split('\\\\')[-1], file.split('\\\\')[-1].replace('acc', 'mag'))\n",
    "            \n",
    "            df_acc = read_csv(file, [1,2,3], ['ax', 'ay', 'az'])\n",
    "            df_mag = read_csv(mag_file, [1,2,3], ['mx', 'my', 'mz'])\n",
    "            \n",
    "            df = pd.concat([df_acc, df_mag], axis=1, join='inner')\n",
    "            X = X.append(df, ignore_index=True)            \n",
    "\n",
    "            y = y.append(get_class_df(file, df), ignore_index=True)\n",
    "\n",
    "    return X, y"
   ]
  },
  {
   "cell_type": "code",
   "execution_count": 6,
   "metadata": {},
   "outputs": [],
   "source": [
    "def read_acc_mag_gyro_csvs(set, acc = True, mag = True, gyro = True, filter=''):\n",
    "    X = pd.DataFrame()\n",
    "    y = pd.DataFrame(columns=['class'])\n",
    "    \n",
    "    for file in glob.glob('data/cleaned/acc_mag_gyro/' + set + '/*' + filter + '*.csv'):\n",
    "\n",
    "        if acc or mag or gyro:\n",
    "            if 'acc' in file.split('\\\\')[-1]:\n",
    "                dfs = []\n",
    "                \n",
    "                if acc:\n",
    "                    df_acc = read_csv(file, [1,2,3], ['ax', 'ay', 'az'])\n",
    "                    if mag: df_acc = df_acc.groupby(np.arange(len(df_acc))//10).mean()\n",
    "                    dfs.append(df_acc)\n",
    "                if mag:\n",
    "                    mag_file = file.replace(file.split('\\\\')[-1], file.split('\\\\')[-1].replace('acc', 'mag'))\n",
    "                    df_mag = read_csv(mag_file, [1,2,3], ['mx', 'my', 'mz'])\n",
    "                    dfs.append(df_mag)\n",
    "                if gyro:\n",
    "                    gyro_file = file.replace(file.split('\\\\')[-1], file.split('\\\\')[-1].replace('acc', 'gyro'))\n",
    "                    df_gyro = read_csv(gyro_file, [1,2,3], ['gx', 'gy', 'gz'])\n",
    "                    if mag: df_gyro = df_gyro.groupby(np.arange(len(df_gyro))//10).mean()\n",
    "                    dfs.append(df_gyro)\n",
    "                \n",
    "                df = pd.concat(dfs, axis=1, join='inner')\n",
    "                X = X.append(df, ignore_index = True)\n",
    "                \n",
    "                y = y.append(get_class_df(file, df), ignore_index=True)\n",
    "        \n",
    "    return X, y"
   ]
  },
  {
   "cell_type": "code",
   "execution_count": 7,
   "metadata": {},
   "outputs": [],
   "source": [
    "def get_filepaths_from_folder(path, filter=''):\n",
    "    files = []\n",
    "    \n",
    "    for file in glob.glob(path + '*'):\n",
    "        if filter in file.split('\\\\')[-1]:\n",
    "            files.append(file)\n",
    "        \n",
    "    return files"
   ]
  },
  {
   "cell_type": "markdown",
   "metadata": {},
   "source": [
    "## Classifiers and metrics"
   ]
  },
  {
   "cell_type": "code",
   "execution_count": 8,
   "metadata": {},
   "outputs": [],
   "source": [
    "from sklearn.metrics import accuracy_score\n",
    "\n",
    "def get_accuracy(X_test, y_test, classifier):\n",
    "    return '{:.2%}'.format(accuracy_score(y_test, classifier.predict(X_test)))"
   ]
  },
  {
   "cell_type": "code",
   "execution_count": 9,
   "metadata": {},
   "outputs": [],
   "source": [
    "from sklearn.metrics import confusion_matrix\n",
    "\n",
    "def print_conf_matrix(X, y, classifier):\n",
    "    conf_matrix = confusion_matrix(y, classifier.predict(X))\n",
    "    print(classifier.classes_)\n",
    "    print(conf_matrix)"
   ]
  },
  {
   "cell_type": "code",
   "execution_count": 10,
   "metadata": {},
   "outputs": [],
   "source": [
    "from sklearn.model_selection import cross_val_score\n",
    "\n",
    "def plot_accuracy_of_k(X, y):\n",
    "    cv_scores = []\n",
    "    my_range = range(1, 40)\n",
    "\n",
    "    for k in my_range:\n",
    "        knn_cv = KNeighborsClassifier(n_neighbors = k)\n",
    "        cv_scores.append(cross_val_score(knn_cv, X, y.values.ravel(), cv = 5, scoring='accuracy').mean())\n",
    "\n",
    "    df_scores = pd.DataFrame(cv_scores, index = my_range)\n",
    "    df_scores.plot(xlabel = 'k', ylabel = 'Accuracy', legend = False)"
   ]
  },
  {
   "cell_type": "markdown",
   "metadata": {},
   "source": [
    "## Math"
   ]
  },
  {
   "cell_type": "code",
   "execution_count": 11,
   "metadata": {},
   "outputs": [],
   "source": [
    "def calc_norms(df):\n",
    "    l = []\n",
    "    \n",
    "    for i in range(len(df)):\n",
    "        l.append(np.linalg.norm(df.iloc[i]))\n",
    "        \n",
    "    return pd.DataFrame({'Norm': l})"
   ]
  },
  {
   "cell_type": "code",
   "execution_count": 12,
   "metadata": {},
   "outputs": [],
   "source": [
    "def calc_angle(df, axis, i):\n",
    "    return np.rad2deg(np.arccos(df[axis].iloc[i] / np.linalg.norm(df.iloc[i])))"
   ]
  },
  {
   "cell_type": "code",
   "execution_count": 13,
   "metadata": {},
   "outputs": [],
   "source": [
    "def calc_angles(df, axis):\n",
    "    l = []\n",
    "    \n",
    "    for i in range(len(df)):\n",
    "        l.append(calc_angle(df, axis, i))\n",
    "        \n",
    "    return pd.DataFrame({'Angle': l})"
   ]
  },
  {
   "cell_type": "markdown",
   "metadata": {},
   "source": [
    "## Plotting"
   ]
  },
  {
   "cell_type": "code",
   "execution_count": 14,
   "metadata": {},
   "outputs": [],
   "source": [
    "# Prepare data for plotting\n",
    "# Concatenate test data with its predictions and rename classes from categorical to numerical.\n",
    "\n",
    "def prep_data_for_all_move_plot(df_test, df_pred):\n",
    "    df = pd.concat([df_test, df_pred], axis=1)\n",
    "    df.rename(columns={0: 'pred'}, inplace=True)\n",
    "    df['pred'].replace({'run': 0, 'walk': 1, 'jump': 2, 'pushup': 3}, inplace=True)\n",
    "    \n",
    "    return df"
   ]
  },
  {
   "cell_type": "code",
   "execution_count": 15,
   "metadata": {},
   "outputs": [],
   "source": [
    "def plot_all_move_with_pred(df_test, df_pred, col):\n",
    "    cmap = matplotlib.cm.get_cmap(\"brg\", 4)\n",
    "\n",
    "    df = prep_data_for_all_move_plot(df_test, df_pred)\n",
    "\n",
    "    plot = df[col].plot(\n",
    "        figsize=(25,5), \n",
    "        color='black', \n",
    "        title='Combined movements', \n",
    "        legend=True, \n",
    "        xlim=(0,len(df)), \n",
    "        xlabel='Time', \n",
    "        xticks=[], \n",
    "        ylabel='Data')\n",
    "    fig = plot.pcolorfast(\n",
    "        plot.get_xlim(), \n",
    "        plot.get_ylim(), \n",
    "        df['pred'].values[np.newaxis], \n",
    "        cmap=cmap,\n",
    "        alpha=0.7)\n",
    "    colorbar = plt.colorbar(fig, ticks=[0.4,1.1,1.85,2.6], label='Prediction')\n",
    "    colorbar.ax.set_yticklabels(['run', 'walk', 'jump', 'pushup'])\n",
    "\n",
    "    print('              run                   walk              jump          pushup             run                     walk              jump        pushup')"
   ]
  },
  {
   "cell_type": "markdown",
   "metadata": {},
   "source": [
    "# Prepare data"
   ]
  },
  {
   "cell_type": "markdown",
   "metadata": {},
   "source": [
    "### Functions"
   ]
  },
  {
   "cell_type": "code",
   "execution_count": 16,
   "metadata": {},
   "outputs": [],
   "source": [
    "def print_shapes_train():\n",
    "    print('Shapes')\n",
    "    print('X_train_run:\\t', X_train_run.shape, '\\t\\ty_train_run:\\t', y_train_run.shape)\n",
    "    print('X_train_walk:\\t', X_train_walk.shape, '\\t\\ty_train_walk:\\t', y_train_walk.shape)\n",
    "    print('X_train_jump:\\t', X_train_jump.shape, '\\t\\ty_train_jump:\\t', y_train_jump.shape)\n",
    "    print('X_train_pushup:\\t', X_train_pushup.shape, '\\t\\ty_train_pushup:\\t', y_train_pushup.shape)"
   ]
  },
  {
   "cell_type": "code",
   "execution_count": 17,
   "metadata": {},
   "outputs": [],
   "source": [
    "def print_shapes_test():\n",
    "    print('Shapes')\n",
    "    print('X_test_run:\\t', X_test_run.shape, '\\t\\ty_test_run:\\t', y_test_run.shape)\n",
    "    print('X_test_walk:\\t', X_test_walk.shape, '\\t\\ty_test_walk:\\t', y_test_walk.shape)\n",
    "    print('X_test_jump:\\t', X_test_jump.shape, '\\t\\ty_test_jump:\\t', y_test_jump.shape)\n",
    "    print('X_test_pushup:\\t', X_test_pushup.shape, '\\t\\ty_test_pushup:\\t', y_test_pushup.shape)"
   ]
  },
  {
   "cell_type": "markdown",
   "metadata": {},
   "source": [
    "### Read and append"
   ]
  },
  {
   "cell_type": "markdown",
   "metadata": {},
   "source": [
    "#### Training set"
   ]
  },
  {
   "cell_type": "code",
   "execution_count": 18,
   "metadata": {},
   "outputs": [
    {
     "name": "stdout",
     "output_type": "stream",
     "text": [
      "Shapes\n",
      "X_train_run:\t (12500, 6) \t\ty_train_run:\t (12500, 1)\n",
      "X_train_walk:\t (7500, 6) \t\ty_train_walk:\t (7500, 1)\n",
      "X_train_jump:\t (9000, 6) \t\ty_train_jump:\t (9000, 1)\n",
      "X_train_pushup:\t (7800, 6) \t\ty_train_pushup:\t (7800, 1)\n"
     ]
    }
   ],
   "source": [
    "# Raw csv's read into dataframes divided by class\n",
    "\n",
    "X_train_run, y_train_run = read_acc_mag_gyro_csvs('train', acc=True, mag=False, gyro=True, filter='run')\n",
    "X_train_walk, y_train_walk = read_acc_mag_gyro_csvs('train', acc=True, mag=False, gyro=True, filter='walk')\n",
    "X_train_jump, y_train_jump = read_acc_mag_gyro_csvs('train', acc=True, mag=False, gyro=True, filter='jump')\n",
    "X_train_pushup, y_train_pushup = read_acc_mag_gyro_csvs('train', acc=True, mag=False, gyro=True, filter='pushup')\n",
    "\n",
    "print_shapes_train()"
   ]
  },
  {
   "cell_type": "code",
   "execution_count": 19,
   "metadata": {},
   "outputs": [
    {
     "data": {
      "text/plain": [
       "28.0"
      ]
     },
     "execution_count": 19,
     "metadata": {},
     "output_type": "execute_result"
    }
   ],
   "source": [
    "# Maximum number of rows\n",
    "\n",
    "n_rows_train = 7168\n",
    "n_rows_train/256     # Test that n_rows is evenly divisible by a number which is a factor of 2"
   ]
  },
  {
   "cell_type": "code",
   "execution_count": 20,
   "metadata": {},
   "outputs": [
    {
     "name": "stdout",
     "output_type": "stream",
     "text": [
      "Shapes\n",
      "X_train_run:\t (7168, 6) \t\ty_train_run:\t (7168, 1)\n",
      "X_train_walk:\t (7168, 6) \t\ty_train_walk:\t (7168, 1)\n",
      "X_train_jump:\t (7168, 6) \t\ty_train_jump:\t (7168, 1)\n",
      "X_train_pushup:\t (7168, 6) \t\ty_train_pushup:\t (7168, 1)\n"
     ]
    }
   ],
   "source": [
    "# Drop rows > n_rows\n",
    "\n",
    "X_train_run, y_train_run = X_train_run[:n_rows_train], y_train_run[:n_rows_train]\n",
    "X_train_walk, y_train_walk = X_train_walk[:n_rows_train], y_train_walk[:n_rows_train]\n",
    "X_train_jump, y_train_jump = X_train_jump[:n_rows_train], y_train_jump[:n_rows_train]\n",
    "X_train_pushup, y_train_pushup = X_train_pushup[:n_rows_train], y_train_pushup[:n_rows_train]\n",
    "\n",
    "print_shapes_train()"
   ]
  },
  {
   "cell_type": "code",
   "execution_count": 21,
   "metadata": {},
   "outputs": [
    {
     "data": {
      "text/plain": [
       "((28672, 6), (28672, 1))"
      ]
     },
     "execution_count": 21,
     "metadata": {},
     "output_type": "execute_result"
    }
   ],
   "source": [
    "# Append all classes in one dataframe\n",
    "\n",
    "X_train_df = X_train_run.append(X_train_walk.append(X_train_jump.append(X_train_pushup, ignore_index=True), ignore_index=True), ignore_index=True)\n",
    "y_train_df = y_train_run.append(y_train_walk.append(y_train_jump.append(y_train_pushup, ignore_index=True), ignore_index=True), ignore_index=True)\n",
    "\n",
    "X_train_df.shape, y_train_df.shape"
   ]
  },
  {
   "cell_type": "markdown",
   "metadata": {},
   "source": [
    "#### Test set"
   ]
  },
  {
   "cell_type": "code",
   "execution_count": 22,
   "metadata": {},
   "outputs": [
    {
     "name": "stdout",
     "output_type": "stream",
     "text": [
      "Shapes\n",
      "X_test_run:\t (3500, 6) \t\ty_test_run:\t (3500, 1)\n",
      "X_test_walk:\t (1500, 6) \t\ty_test_walk:\t (1500, 1)\n",
      "X_test_jump:\t (1800, 6) \t\ty_test_jump:\t (1800, 1)\n",
      "X_test_pushup:\t (2000, 6) \t\ty_test_pushup:\t (2000, 1)\n"
     ]
    }
   ],
   "source": [
    "# Raw csv's read into dataframes divided by class\n",
    "\n",
    "X_test_run, y_test_run = read_acc_mag_gyro_csvs('test', acc=True, mag=False, gyro=True, filter='run')\n",
    "X_test_walk, y_test_walk = read_acc_mag_gyro_csvs('test', acc=True, mag=False, gyro=True, filter='walk')\n",
    "X_test_jump, y_test_jump = read_acc_mag_gyro_csvs('test', acc=True, mag=False, gyro=True, filter='jump')\n",
    "X_test_pushup, y_test_pushup = read_acc_mag_gyro_csvs('test', acc=True, mag=False, gyro=True, filter='pushup')\n",
    "\n",
    "print_shapes_test()"
   ]
  },
  {
   "cell_type": "code",
   "execution_count": 23,
   "metadata": {},
   "outputs": [
    {
     "data": {
      "text/plain": [
       "5.0"
      ]
     },
     "execution_count": 23,
     "metadata": {},
     "output_type": "execute_result"
    }
   ],
   "source": [
    "# Maximum number of rows\n",
    "\n",
    "n_rows_test = 1280\n",
    "n_rows_test/256     # Test that n_rows is evenly divisible by a number which is a factor of 2"
   ]
  },
  {
   "cell_type": "code",
   "execution_count": 24,
   "metadata": {},
   "outputs": [
    {
     "name": "stdout",
     "output_type": "stream",
     "text": [
      "Shapes\n",
      "X_test_run:\t (1280, 6) \t\ty_test_run:\t (1280, 1)\n",
      "X_test_walk:\t (1280, 6) \t\ty_test_walk:\t (1280, 1)\n",
      "X_test_jump:\t (1280, 6) \t\ty_test_jump:\t (1280, 1)\n",
      "X_test_pushup:\t (1280, 6) \t\ty_test_pushup:\t (1280, 1)\n"
     ]
    }
   ],
   "source": [
    "# Drop rows > n_rows\n",
    "\n",
    "X_test_run, y_test_run = X_test_run[:n_rows_test], y_test_run[:n_rows_test]\n",
    "X_test_walk, y_test_walk = X_test_walk[:n_rows_test], y_test_walk[:n_rows_test]\n",
    "X_test_jump, y_test_jump = X_test_jump[:n_rows_test], y_test_jump[:n_rows_test]\n",
    "X_test_pushup, y_test_pushup = X_test_pushup[:n_rows_test], y_test_pushup[:n_rows_test]\n",
    "\n",
    "print_shapes_test()"
   ]
  },
  {
   "cell_type": "code",
   "execution_count": 25,
   "metadata": {},
   "outputs": [
    {
     "data": {
      "text/plain": [
       "((5120, 6), (5120, 1))"
      ]
     },
     "execution_count": 25,
     "metadata": {},
     "output_type": "execute_result"
    }
   ],
   "source": [
    "# Append all classes in one dataframe\n",
    "\n",
    "X_test_df = X_test_run.append(X_test_walk.append(X_test_jump.append(X_test_pushup, ignore_index=True), ignore_index=True), ignore_index=True)\n",
    "y_test_df = y_test_run.append(y_test_walk.append(y_test_jump.append(y_test_pushup, ignore_index=True), ignore_index=True), ignore_index=True)\n",
    "\n",
    "X_test_df.shape, y_test_df.shape"
   ]
  },
  {
   "cell_type": "markdown",
   "metadata": {},
   "source": [
    "## Standard deviation"
   ]
  },
  {
   "cell_type": "markdown",
   "metadata": {},
   "source": [
    "### Get dataframe with stddev"
   ]
  },
  {
   "cell_type": "code",
   "execution_count": 26,
   "metadata": {},
   "outputs": [],
   "source": [
    "from statistics import stdev\n",
    "\n",
    "def calc_stdev(data, n):\n",
    "    l = []\n",
    "    count = 0\n",
    "\n",
    "    while count <= len(data):\n",
    "        count += 1\n",
    "\n",
    "        if count % n == 0:\n",
    "            l.append(stdev(data[count-n:count]))\n",
    "\n",
    "    return pd.DataFrame({'stdev': l})"
   ]
  },
  {
   "cell_type": "code",
   "execution_count": 27,
   "metadata": {},
   "outputs": [],
   "source": [
    "def get_stdev_dfs(df_x, df_y, n):\n",
    "    df = pd.concat([df_x, df_y], axis=1)\n",
    "    classes = df['class'].unique()\n",
    "    X = pd.DataFrame(columns=['stdev'])\n",
    "    y = pd.DataFrame(columns=['class'])\n",
    "\n",
    "    for i in range(0, len(classes)):\n",
    "        df_temp = calc_stdev(df[df['class'] == classes[i]]['ay'], n)\n",
    "        X = X.append(df_temp, ignore_index=True)\n",
    "        y = y.append([pd.DataFrame({'class': [classes[i] for _ in range(len(df_temp))]})], ignore_index=True)\n",
    "\n",
    "    return X, y"
   ]
  },
  {
   "cell_type": "markdown",
   "metadata": {},
   "source": [
    "# RNN Classification"
   ]
  },
  {
   "cell_type": "code",
   "execution_count": 57,
   "metadata": {},
   "outputs": [],
   "source": [
    "n_timesteps = 1"
   ]
  },
  {
   "cell_type": "code",
   "execution_count": 58,
   "metadata": {},
   "outputs": [
    {
     "name": "stdout",
     "output_type": "stream",
     "text": [
      "X.shape\t\ty.shape\n",
      "(28672, 1, 6)\t(28672, 4)\n",
      "(5120, 1, 6)\t(5120, 4)\n"
     ]
    }
   ],
   "source": [
    "# Reshape df's, convert to numpy arrays and encode y\n",
    "\n",
    "from sklearn.preprocessing import LabelEncoder\n",
    "\n",
    "# Reshape and convert X\n",
    "X_train = np.reshape(X_train_df.to_numpy(), (X_train_df.shape[0] // n_timesteps, n_timesteps, X_train_df.shape[1]))\n",
    "X_test = np.reshape(X_test_df.to_numpy(), (X_test_df.shape[0] // n_timesteps, n_timesteps, X_test_df.shape[1]))\n",
    "\n",
    "# One-hot encode y\n",
    "y_train_np = y_train_df['class'][::n_timesteps].to_numpy()\n",
    "y_test_np = y_test_df['class'][::n_timesteps].to_numpy()\n",
    "enc = LabelEncoder()\n",
    "y_train_np_reshaped_labelenc = enc.fit_transform(y_train_np)\n",
    "y_train = keras.utils.to_categorical(y_train_np_reshaped_labelenc)\n",
    "y_test_np_reshaped_labelenc = enc.fit_transform(y_test_np)\n",
    "y_test = keras.utils.to_categorical(y_test_np_reshaped_labelenc)\n",
    "\n",
    "print(f'X.shape\\t\\ty.shape')\n",
    "print(f'{X_train.shape}\\t{y_train.shape}')\n",
    "print(f'{X_test.shape}\\t{y_test.shape}')"
   ]
  },
  {
   "cell_type": "code",
   "execution_count": 59,
   "metadata": {},
   "outputs": [],
   "source": [
    "from keras.models import Sequential\n",
    "from keras.layers import Dense, Dropout, LSTM, GRU\n",
    "\n",
    "model = Sequential()\n",
    "\n",
    "# Layer 1\n",
    "model.add(LSTM(units=n_timesteps, input_shape=(X_train.shape[1], X_train.shape[2])))\n",
    "model.add(Dropout(0.2))\n",
    "\n",
    "# Layer 2\n",
    "model.add(Dense(units=4, activation='softmax'))\n",
    "\n",
    "# Compile model\n",
    "model.compile(optimizer='adam', loss='categorical_crossentropy', metrics=['accuracy'])"
   ]
  },
  {
   "cell_type": "code",
   "execution_count": 60,
   "metadata": {},
   "outputs": [
    {
     "name": "stdout",
     "output_type": "stream",
     "text": [
      "Train on 22937 samples, validate on 5735 samples\n",
      "Epoch 1/20\n",
      "22937/22937 [==============================] - 1s 56us/step - loss: 1.3049 - accuracy: 0.3604 - val_loss: 2.0578 - val_accuracy: 0.0000e+00\n",
      "Epoch 2/20\n",
      "22937/22937 [==============================] - 1s 47us/step - loss: 1.1718 - accuracy: 0.4714 - val_loss: 2.3823 - val_accuracy: 0.0000e+00\n",
      "Epoch 3/20\n",
      "22937/22937 [==============================] - 1s 46us/step - loss: 1.1333 - accuracy: 0.4812 - val_loss: 2.5318 - val_accuracy: 0.0000e+00\n",
      "Epoch 4/20\n",
      "22937/22937 [==============================] - 1s 46us/step - loss: 1.1063 - accuracy: 0.5029 - val_loss: 2.5899 - val_accuracy: 0.0000e+00\n",
      "Epoch 5/20\n",
      "22937/22937 [==============================] - 1s 46us/step - loss: 1.0787 - accuracy: 0.5050 - val_loss: 2.5986 - val_accuracy: 0.0000e+00\n",
      "Epoch 6/20\n",
      "22937/22937 [==============================] - 1s 45us/step - loss: 1.0659 - accuracy: 0.5196 - val_loss: 2.5859 - val_accuracy: 0.0000e+00\n",
      "Epoch 7/20\n",
      "22937/22937 [==============================] - 1s 46us/step - loss: 1.0617 - accuracy: 0.5272 - val_loss: 2.5933 - val_accuracy: 0.0000e+00\n",
      "Epoch 8/20\n",
      "22937/22937 [==============================] - 1s 47us/step - loss: 1.0504 - accuracy: 0.5326 - val_loss: 2.5853 - val_accuracy: 0.0000e+00\n",
      "Epoch 9/20\n",
      "22937/22937 [==============================] - 1s 50us/step - loss: 1.0428 - accuracy: 0.5336 - val_loss: 2.5874 - val_accuracy: 0.0000e+00\n",
      "Epoch 10/20\n",
      "22937/22937 [==============================] - 1s 50us/step - loss: 1.0430 - accuracy: 0.5356 - val_loss: 2.5715 - val_accuracy: 0.0000e+00\n",
      "Epoch 11/20\n",
      "22937/22937 [==============================] - 1s 46us/step - loss: 1.0336 - accuracy: 0.5412 - val_loss: 2.5560 - val_accuracy: 0.0000e+00\n",
      "Epoch 12/20\n",
      "22937/22937 [==============================] - 1s 46us/step - loss: 1.0374 - accuracy: 0.5401 - val_loss: 2.5700 - val_accuracy: 0.0000e+00\n",
      "Epoch 13/20\n",
      "22937/22937 [==============================] - 1s 47us/step - loss: 1.0297 - accuracy: 0.5428 - val_loss: 2.5591 - val_accuracy: 0.0000e+00\n",
      "Epoch 14/20\n",
      "22937/22937 [==============================] - 1s 52us/step - loss: 1.0292 - accuracy: 0.5436 - val_loss: 2.5590 - val_accuracy: 0.0000e+00\n",
      "Epoch 15/20\n",
      "22937/22937 [==============================] - 1s 49us/step - loss: 1.0293 - accuracy: 0.5427 - val_loss: 2.5418 - val_accuracy: 0.0000e+00\n",
      "Epoch 16/20\n",
      "22937/22937 [==============================] - 1s 46us/step - loss: 1.0305 - accuracy: 0.5379 - val_loss: 2.5416 - val_accuracy: 0.0000e+00\n",
      "Epoch 17/20\n",
      "22937/22937 [==============================] - 1s 46us/step - loss: 1.0253 - accuracy: 0.5438 - val_loss: 2.5425 - val_accuracy: 0.0000e+00\n",
      "Epoch 18/20\n",
      "22937/22937 [==============================] - 1s 48us/step - loss: 1.0282 - accuracy: 0.5409 - val_loss: 2.5470 - val_accuracy: 0.0000e+00\n",
      "Epoch 19/20\n",
      "22937/22937 [==============================] - 1s 47us/step - loss: 1.0252 - accuracy: 0.5440 - val_loss: 2.5515 - val_accuracy: 0.0000e+00\n",
      "Epoch 20/20\n",
      "22937/22937 [==============================] - 1s 47us/step - loss: 1.0267 - accuracy: 0.5391 - val_loss: 2.5350 - val_accuracy: 0.0000e+00\n"
     ]
    }
   ],
   "source": [
    "history = model.fit(X_train, y_train, epochs=20, validation_split=0.2)"
   ]
  },
  {
   "cell_type": "code",
   "execution_count": 61,
   "metadata": {},
   "outputs": [
    {
     "data": {
      "text/plain": [
       "<matplotlib.axes._subplots.AxesSubplot at 0x213a1745508>"
      ]
     },
     "execution_count": 61,
     "metadata": {},
     "output_type": "execute_result"
    },
    {
     "data": {
      "image/png": "[encoded data removed]",
      "text/plain": [
       "<Figure size 432x288 with 1 Axes>"
      ]
     },
     "metadata": {
      "needs_background": "light"
     },
     "output_type": "display_data"
    }
   ],
   "source": [
    "pd.DataFrame(history.history).plot()"
   ]
  },
  {
   "cell_type": "code",
   "execution_count": 63,
   "metadata": {},
   "outputs": [
    {
     "data": {
      "text/plain": [
       "<tf.Tensor: shape=(4, 4), dtype=int32, numpy=\n",
       "array([[ 873,    0,  353,   54],\n",
       "       [   0,    0, 1280,    0],\n",
       "       [ 281,    0,  877,  122],\n",
       "       [  45,    0,  634,  601]])>"
      ]
     },
     "execution_count": 63,
     "metadata": {},
     "output_type": "execute_result"
    }
   ],
   "source": [
    "tf.math.confusion_matrix(y_test.argmax(axis=1), model.predict(X_test).argmax(axis=1))"
   ]
  },
  {
   "cell_type": "code",
   "execution_count": 79,
   "metadata": {},
   "outputs": [
    {
     "name": "stdout",
     "output_type": "stream",
     "text": [
      "Loss = 1.30\tAccuracy = 45.92%\n"
     ]
    }
   ],
   "source": [
    "# Evaluate the model\n",
    "\n",
    "ev = model.evaluate(X_test, y_test, verbose=0)\n",
    "print(f'Loss = {ev[0]:.2f}\\tAccuracy = {ev[1]:.2%}')"
   ]
  }
 ],
 "metadata": {
  "interpreter": {
   "hash": "8eedd772e5dd4d568fa3672beec7e0e2a0f5f2c0fdc503b9e0abdb9ab5446698"
  },
  "kernelspec": {
   "display_name": "Python 3 (ipykernel)",
   "language": "python",
   "name": "python3"
  },
  "language_info": {
   "codemirror_mode": {
    "name": "ipython",
    "version": 3
   },
   "file_extension": ".py",
   "mimetype": "text/x-python",
   "name": "python",
   "nbconvert_exporter": "python",
   "pygments_lexer": "ipython3",
   "version": "3.7.10"
  }
 },
 "nbformat": 4,
 "nbformat_minor": 2
}
