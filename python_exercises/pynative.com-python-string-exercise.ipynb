{
 "cells": [
  {
   "cell_type": "code",
   "execution_count": 5,
   "id": "073d5186",
   "metadata": {},
   "outputs": [
    {
     "name": "stdout",
     "output_type": "stream",
     "text": [
      "Dip\n",
      "Son\n"
     ]
    }
   ],
   "source": [
    "#1\n",
    "\n",
    "str1 = \"JhonDipPeta\"\n",
    "str2 = \"JaSonAy\"\n",
    "\n",
    "def get_middle_three(string):\n",
    "    mid_index = len(string) // 2\n",
    "    \n",
    "    return string[mid_index - 1:mid_index + 2]\n",
    "\n",
    "print(get_middle_three(str1))\n",
    "print(get_middle_three(str2))"
   ]
  },
  {
   "cell_type": "code",
   "execution_count": 10,
   "id": "06931e46",
   "metadata": {},
   "outputs": [
    {
     "name": "stdout",
     "output_type": "stream",
     "text": [
      "AuKellylt\n"
     ]
    }
   ],
   "source": [
    "#2\n",
    "\n",
    "s1 = \"Ault\"\n",
    "s2 = \"Kelly\"\n",
    "\n",
    "mid_index = len(s1) // 2\n",
    "string = s1[:mid_index] + s2 + s1[mid_index:]\n",
    "\n",
    "print(string)"
   ]
  },
  {
   "cell_type": "code",
   "execution_count": 22,
   "id": "e6d7fb35",
   "metadata": {},
   "outputs": [
    {
     "name": "stdout",
     "output_type": "stream",
     "text": [
      "AJrpan\n"
     ]
    }
   ],
   "source": [
    "#3\n",
    "\n",
    "s1 = \"America\"\n",
    "s2 = \"Japan\"\n",
    "\n",
    "def make_string(s1, s2):\n",
    "    return s1[0] + s2[0] + s1[len(s1) // 2] + s2[len(s2) // 2] + s1[len(s1) - 1] + s2[len(s2) - 1]\n",
    "\n",
    "print(make_string(s1, s2))"
   ]
  },
  {
   "cell_type": "code",
   "execution_count": 30,
   "id": "7cf8d9d9",
   "metadata": {},
   "outputs": [
    {
     "name": "stdout",
     "output_type": "stream",
     "text": [
      "eviayPNT\n"
     ]
    }
   ],
   "source": [
    "#4\n",
    "\n",
    "str1 = \"PyNaTive\"\n",
    "resString = []\n",
    "\n",
    "for char in str1:\n",
    "    if char.islower():\n",
    "        resString.insert(0, char)\n",
    "    else:\n",
    "        resString.append(char)\n",
    "        \n",
    "print(\"\".join(resString))"
   ]
  },
  {
   "cell_type": "code",
   "execution_count": 37,
   "id": "484cd337",
   "metadata": {},
   "outputs": [
    {
     "name": "stdout",
     "output_type": "stream",
     "text": [
      "Lower case chars: 7\n",
      "Upper case chars: 1\n",
      "Digits: 3\n",
      "Symbols: 4\n"
     ]
    }
   ],
   "source": [
    "#5\n",
    "\n",
    "str1 = \"P@#yn26at^&i5ve\"\n",
    "lowerChars = 0\n",
    "upperChars = 0\n",
    "digits = 0\n",
    "symbols = 0\n",
    "\n",
    "for char in str1:\n",
    "    if char.islower():\n",
    "        lowerChars += 1\n",
    "    elif char.isupper():\n",
    "        upperChars += 1\n",
    "    elif char.isdigit():\n",
    "        digits += 1\n",
    "    else:\n",
    "        symbols += 1\n",
    "\n",
    "print(\"Lower case chars:\", lowerChars)\n",
    "print(\"Upper case chars:\", upperChars)\n",
    "print(\"Digits:\", digits)\n",
    "print(\"Symbols:\", symbols)"
   ]
  },
  {
   "cell_type": "code",
   "execution_count": 46,
   "id": "7f672779",
   "metadata": {},
   "outputs": [
    {
     "name": "stdout",
     "output_type": "stream",
     "text": [
      "AzbycX\n"
     ]
    }
   ],
   "source": [
    "#6\n",
    "\n",
    "s1 = \"Abc\"\n",
    "s2 = \"Xyz\"\n",
    "s2 = s2[::-1] # reverse s2\n",
    "s3 = \"\"\n",
    "lengthS1 = len(s1)\n",
    "lengthS2 = len(s2)\n",
    "length = max(lengthS1, lengthS2)\n",
    "\n",
    "for i in range(length):\n",
    "    if i < lengthS1:\n",
    "        s3 += s1[i]\n",
    "    if i < lengthS2:\n",
    "        s3 += s2[i]\n",
    "        \n",
    "print(s3)\n"
   ]
  },
  {
   "cell_type": "code",
   "execution_count": 52,
   "id": "4db9c810",
   "metadata": {},
   "outputs": [
    {
     "name": "stdout",
     "output_type": "stream",
     "text": [
      "True\n"
     ]
    }
   ],
   "source": [
    "#7\n",
    "\n",
    "s1 = \"Yn\"\n",
    "s2 = \"PYnative\"\n",
    "boolean = True\n",
    "\n",
    "for char in s1:\n",
    "    if char not in s2:\n",
    "        boolean = False\n",
    "        \n",
    "print(boolean)"
   ]
  },
  {
   "cell_type": "code",
   "execution_count": 55,
   "id": "b0551514",
   "metadata": {},
   "outputs": [
    {
     "name": "stdout",
     "output_type": "stream",
     "text": [
      "USA count: 2\n"
     ]
    }
   ],
   "source": [
    "#8\n",
    "\n",
    "str1 = \"Welcome to USA. usa awesome, isn't it?\"\n",
    "count = str1.lower().count(\"usa\")\n",
    "\n",
    "print(\"USA count:\", count)"
   ]
  },
  {
   "cell_type": "code",
   "execution_count": 59,
   "id": "025701e9",
   "metadata": {},
   "outputs": [
    {
     "name": "stdout",
     "output_type": "stream",
     "text": [
      "Sum: 51\n",
      "Avg: 6.375\n"
     ]
    }
   ],
   "source": [
    "#9\n",
    "\n",
    "str1 = \"English = 78 Science = 83 Math = 68 History = 65\"\n",
    "sum = 0\n",
    "count = 0\n",
    "\n",
    "for char in str1:\n",
    "    if char.isdigit():\n",
    "        sum += int(char)\n",
    "        count += 1\n",
    "\n",
    "print(\"Sum:\", sum)\n",
    "print(\"Avg:\", sum / count)"
   ]
  },
  {
   "cell_type": "code",
   "execution_count": 60,
   "id": "959b80dc",
   "metadata": {},
   "outputs": [
    {
     "name": "stdout",
     "output_type": "stream",
     "text": [
      "{'A': 1, 'p': 2, 'l': 1, 'e': 1}\n"
     ]
    }
   ],
   "source": [
    "#10\n",
    "\n",
    "str1 = \"Apple\"\n",
    "charDict = dict()\n",
    "\n",
    "for char in str1:\n",
    "    charDict[char] = str1.count(char)\n",
    "    \n",
    "print(charDict)"
   ]
  },
  {
   "cell_type": "code",
   "execution_count": 62,
   "id": "7c1379da",
   "metadata": {},
   "outputs": [
    {
     "name": "stdout",
     "output_type": "stream",
     "text": [
      "evitanYP\n"
     ]
    }
   ],
   "source": [
    "#11\n",
    "\n",
    "str1 = \"PYnative\"\n",
    "\n",
    "print(str1[::-1])"
   ]
  },
  {
   "cell_type": "code",
   "execution_count": 63,
   "id": "eb8ff57c",
   "metadata": {},
   "outputs": [
    {
     "name": "stdout",
     "output_type": "stream",
     "text": [
      "43\n"
     ]
    }
   ],
   "source": [
    "#12\n",
    "\n",
    "str1 = \"Emma is a data scientist who knows Python. Emma works at google.\"\n",
    "\n",
    "print(str1.rfind(\"Emma\"))"
   ]
  },
  {
   "cell_type": "code",
   "execution_count": 66,
   "id": "16b78cc7",
   "metadata": {},
   "outputs": [
    {
     "name": "stdout",
     "output_type": "stream",
     "text": [
      "Emma\n",
      "is\n",
      "a\n",
      "data\n",
      "scientist\n"
     ]
    }
   ],
   "source": [
    "#13\n",
    "\n",
    "str1 = \"Emma-is-a-data-scientist\"\n",
    "\n",
    "splitString = str1.split(\"-\")\n",
    "\n",
    "for string in splitString:\n",
    "    print(string)"
   ]
  },
  {
   "cell_type": "code",
   "execution_count": 74,
   "id": "d5744f7a",
   "metadata": {},
   "outputs": [
    {
     "name": "stdout",
     "output_type": "stream",
     "text": [
      "['Emma', 'Jon', 'Kelly', 'Eric']\n"
     ]
    }
   ],
   "source": [
    "#14\n",
    "\n",
    "str_list = [\"Emma\", \"Jon\", \"\", \"Kelly\", None, \"Eric\", \"\"]        \n",
    "        \n",
    "print(list(filter(None, str_list)))"
   ]
  },
  {
   "cell_type": "code",
   "execution_count": 77,
   "id": "bbe14a19",
   "metadata": {},
   "outputs": [
    {
     "ename": "AttributeError",
     "evalue": "'str' object has no attribute 'punctuation'",
     "output_type": "error",
     "traceback": [
      "\u001b[1;31m---------------------------------------------------------------------------\u001b[0m",
      "\u001b[1;31mAttributeError\u001b[0m                            Traceback (most recent call last)",
      "\u001b[1;32m~\\AppData\\Local\\Temp/ipykernel_21008/1936671783.py\u001b[0m in \u001b[0;36m<module>\u001b[1;34m\u001b[0m\n\u001b[0;32m      3\u001b[0m \u001b[0mstr1\u001b[0m \u001b[1;33m=\u001b[0m \u001b[1;34m\"/*Jon is @developer & musician\"\u001b[0m\u001b[1;33m\u001b[0m\u001b[1;33m\u001b[0m\u001b[0m\n\u001b[0;32m      4\u001b[0m \u001b[1;33m\u001b[0m\u001b[0m\n\u001b[1;32m----> 5\u001b[1;33m \u001b[0mprint\u001b[0m\u001b[1;33m(\u001b[0m\u001b[0mstr1\u001b[0m\u001b[1;33m.\u001b[0m\u001b[0mtranslate\u001b[0m\u001b[1;33m(\u001b[0m\u001b[0mstr\u001b[0m\u001b[1;33m.\u001b[0m\u001b[0mmaketrans\u001b[0m\u001b[1;33m(\u001b[0m\u001b[1;34m''\u001b[0m\u001b[1;33m,\u001b[0m \u001b[1;34m''\u001b[0m\u001b[1;33m,\u001b[0m \u001b[0mstring\u001b[0m\u001b[1;33m.\u001b[0m\u001b[0mpunctuation\u001b[0m\u001b[1;33m(\u001b[0m\u001b[1;33m)\u001b[0m\u001b[1;33m)\u001b[0m\u001b[1;33m)\u001b[0m\u001b[1;33m)\u001b[0m\u001b[1;33m\u001b[0m\u001b[1;33m\u001b[0m\u001b[0m\n\u001b[0m",
      "\u001b[1;31mAttributeError\u001b[0m: 'str' object has no attribute 'punctuation'"
     ]
    }
   ],
   "source": [
    "#15\n",
    "\n",
    "str1 = \"/*Jon is @developer & musician\"\n",
    "\n",
    "print(str1.translate(str.maketrans('', '', string)))"
   ]
  },
  {
   "cell_type": "code",
   "execution_count": 78,
   "id": "51031657",
   "metadata": {},
   "outputs": [
    {
     "name": "stdout",
     "output_type": "stream",
     "text": [
      "Original string is I am 25 years and 10 months old\n",
      "2510\n"
     ]
    }
   ],
   "source": [
    "#16\n",
    "\n",
    "str1 = 'I am 25 years and 10 months old'\n",
    "print(\"Original string is\", str1)\n",
    "\n",
    "# Retain Numbers in String\n",
    "# Using list comprehension + join() + isdigit()\n",
    "res = \"\".join([item for item in str1 if item.isdigit()])\n",
    "\n",
    "print(res)"
   ]
  },
  {
   "cell_type": "code",
   "execution_count": null,
   "id": "6ee11d35",
   "metadata": {},
   "outputs": [],
   "source": [
    "#17\n",
    "\n"
   ]
  }
 ],
 "metadata": {
  "kernelspec": {
   "display_name": "Python 3 (ipykernel)",
   "language": "python",
   "name": "python3"
  },
  "language_info": {
   "codemirror_mode": {
    "name": "ipython",
    "version": 3
   },
   "file_extension": ".py",
   "mimetype": "text/x-python",
   "name": "python",
   "nbconvert_exporter": "python",
   "pygments_lexer": "ipython3",
   "version": "3.7.10"
  }
 },
 "nbformat": 4,
 "nbformat_minor": 5
}
